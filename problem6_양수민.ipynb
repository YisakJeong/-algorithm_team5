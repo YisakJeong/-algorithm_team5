{
  "nbformat": 4,
  "nbformat_minor": 0,
  "metadata": {
    "colab": {
      "provenance": [],
      "authorship_tag": "ABX9TyPuTlB94GZCy5I0YvcvOZbW",
      "include_colab_link": true
    },
    "kernelspec": {
      "name": "python3",
      "display_name": "Python 3"
    },
    "language_info": {
      "name": "python"
    }
  },
  "cells": [
    {
      "cell_type": "markdown",
      "metadata": {
        "id": "view-in-github",
        "colab_type": "text"
      },
      "source": [
        "<a href=\"https://colab.research.google.com/github/YisakJeong/-algorithm_team5/blob/main/problem6_%EC%96%91%EC%88%98%EB%AF%BC.ipynb\" target=\"_parent\"><img src=\"https://colab.research.google.com/assets/colab-badge.svg\" alt=\"Open In Colab\"/></a>"
      ]
    },
    {
      "cell_type": "code",
      "execution_count": 1,
      "metadata": {
        "colab": {
          "base_uri": "https://localhost:8080/"
        },
        "id": "BSnG30rGgieO",
        "outputId": "4ecd77df-3f30-4898-f62a-ab09ddedce30"
      },
      "outputs": [
        {
          "output_type": "stream",
          "name": "stdout",
          "text": [
            "Path found!\n",
            "총 이동 거리: 47\n"
          ]
        }
      ],
      "source": [
        "def dfs(x, y, path, visited):\n",
        "    # 경계 밖\n",
        "    if x < 0 or x >= n or y < 0 or y >= n:\n",
        "        return False\n",
        "\n",
        "    # 벽이거나 이미 방문한 곳이면 무시\n",
        "    if grid[x][y] == '#' or visited[x][y]:\n",
        "        return False\n",
        "\n",
        "    # 도착 지점이면 성공\n",
        "    if grid[x][y] == 'E':\n",
        "        path.append((x, y))\n",
        "        return True\n",
        "\n",
        "    visited[x][y] = True\n",
        "    path.append((x, y))\n",
        "\n",
        "    for dx, dy in [(-1,0), (1,0), (0,-1), (0,1)]:\n",
        "        nx, ny = x + dx, y + dy\n",
        "        if dfs(nx, ny, path, visited):\n",
        "            return True\n",
        "\n",
        "    # 실패 시 백트래킹\n",
        "    path.pop()\n",
        "    visited[x][y] = False\n",
        "    return False\n",
        "\n",
        "\n",
        "grid = [\n",
        "    list(\"S...#.....\"),\n",
        "    list(\"###.#.###.\"),\n",
        "    list(\"........#.\"),\n",
        "    list(\".######.#.\"),\n",
        "    list(\"......#.#.\"),\n",
        "    list(\".#.#..#.#.\"),\n",
        "    list(\".#.####.#.\"),\n",
        "    list(\"........#.\"),\n",
        "    list(\".######.#.\"),\n",
        "    list(\"........E.\")\n",
        "]\n",
        "\n",
        "\n",
        "n = len(grid)\n",
        "visited = [[False]*n for _ in range(n)]\n",
        "path = []\n",
        "\n",
        "if dfs(0, 0, path, visited):\n",
        "    print(\"Path found!\")\n",
        "    print(\"총 이동 거리:\", len(path) - 1)\n",
        "else:\n",
        "    print(\"BONUS_ANSWER = nopath\")"
      ]
    },
    {
      "cell_type": "code",
      "source": [],
      "metadata": {
        "id": "7bjVoT0ihLl1"
      },
      "execution_count": null,
      "outputs": []
    }
  ]
}