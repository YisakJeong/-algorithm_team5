{
  "nbformat": 4,
  "nbformat_minor": 0,
  "metadata": {
    "colab": {
      "provenance": [],
      "authorship_tag": "ABX9TyNiDvaYnE21X7tinceojF6a",
      "include_colab_link": true
    },
    "kernelspec": {
      "name": "python3",
      "display_name": "Python 3"
    },
    "language_info": {
      "name": "python"
    }
  },
  "cells": [
    {
      "cell_type": "markdown",
      "metadata": {
        "id": "view-in-github",
        "colab_type": "text"
      },
      "source": [
        "<a href=\"https://colab.research.google.com/github/YisakJeong/-algorithm_team5/blob/main/problem5.ipynb\" target=\"_parent\"><img src=\"https://colab.research.google.com/assets/colab-badge.svg\" alt=\"Open In Colab\"/></a>"
      ]
    },
    {
      "cell_type": "code",
      "execution_count": null,
      "metadata": {
        "id": "ZNI8A1wXoip4"
      },
      "outputs": [],
      "source": [
        "# 필요한 패키지(라이브러리)\n",
        "import pandas as pd # 정렬된 결과 리스트를 csv 파일로 저장하기 위해 pd.DataFrame, to_csv를 사용하기 위한 라이브러리\n",
        "import random # 1부터 1,000,000 사이의 100만개의 랜덤 숫자 리스트를 생성하기 위한 라이브러리\n",
        "import time # 정렬 시간을 측정하기 위한 라이브러리"
      ]
    },
    {
      "cell_type": "code",
      "source": [
        "numbers = [random.randint(0, 10**6) for _ in range(10**6)] # 1부터 1,000,000 사이의 100만개의 숫자로 이루어진 numbers 리스트 생성\n",
        "print(f\" 정렬되지 않은 숫자 리스트: \\n {numbers[0:10]}...\") # 테스트용 리스트의 일부만 출력(앞에서부터 10개)\n",
        "print(f\" 정렬되지 않은 리스트 길이: {len(numbers)}\") # numbers의 길이가 100만이 맞는지 확인"
      ],
      "metadata": {
        "colab": {
          "base_uri": "https://localhost:8080/"
        },
        "id": "WCsZQX0x2pXo",
        "outputId": "8b2c858f-373d-4347-b899-70227335fc68"
      },
      "execution_count": null,
      "outputs": [
        {
          "output_type": "stream",
          "name": "stdout",
          "text": [
            " 정렬되지 않은 숫자 리스트: \n",
            " [291514, 759907, 78452, 276582, 472312, 503558, 223281, 808474, 38330, 52635]...\n",
            " 정렬되지 않은 리스트 길이: 1000000\n"
          ]
        }
      ]
    },
    {
      "cell_type": "code",
      "source": [
        "numbers.sort() # numbers 리스트를 sort() 메소드로 정렬\n",
        "sorted_numbers = numbers # 정렬된 numbers 리스트를 sorted_numbers에 할당\n",
        "\n",
        "print(f\"sort: \\n {sorted_numbers[0:10]}\") # sort로 정렬된 sorted_numbers의 앞에서부터 10개의 항목을 출력\n",
        "print(\"=\"*65)\n",
        "print(f\"정렬된 리스트 길이: {len(sorted_numbers)}\") # sort로 정렬된 sorted_numbers의 길이가 기존에 정렬되지 않았던 numbers의 길이와 같은지 확인"
      ],
      "metadata": {
        "id": "Ins5rTJr3ygw",
        "colab": {
          "base_uri": "https://localhost:8080/"
        },
        "outputId": "c14566db-1c30-48ed-f125-b20335dff307"
      },
      "execution_count": null,
      "outputs": [
        {
          "output_type": "stream",
          "name": "stdout",
          "text": [
            "sort: \n",
            " [1, 2, 3, 4, 5, 5, 7, 8, 10, 10]\n",
            "=================================================================\n",
            "정렬된 리스트 길이: 1000000\n"
          ]
        }
      ]
    },
    {
      "cell_type": "code",
      "source": [
        "# 알고리즘 시간 복잡도 분석\n",
        "\n",
        "# 실행 시간을 저장할 리스트\n",
        "times_timSort = []\n",
        "\n",
        "#실행 시간 측정\n",
        "# 기본 정렬 함수 실행 시간 측정\n",
        "start_time = time.time() # 정렬 시작 시간 측정\n",
        "numbers.sort() # numbers 리스트를 정렬\n",
        "end_time = time.time() # 정렬이 끝난 시간 측정\n",
        "times_timSort.append(end_time - start_time) # 정렬이 끝난 시간에서 시작 시간의 차이로 총 정렬 시간 계산하여 times_timSort 리스트에 추가\n",
        "\n",
        "print(f\"실행 시간: {times_timSort[0]}\") # 정렬하는데 걸린 시간은 0.05초로 3초보다 빠르다"
      ],
      "metadata": {
        "id": "-rYwwvxj2qRJ",
        "colab": {
          "base_uri": "https://localhost:8080/"
        },
        "outputId": "be5137b0-2683-43a3-e382-3f099e2d4e82"
      },
      "execution_count": null,
      "outputs": [
        {
          "output_type": "stream",
          "name": "stdout",
          "text": [
            "실행 시간: 0.05045604705810547\n"
          ]
        }
      ]
    },
    {
      "cell_type": "code",
      "source": [
        "# 3가지 조건 만족도를 판단하는 코드\n",
        "# 1. 정렬 정확도: 결과 리스트가 올바르게 오름차순으로 정렬되었는가?\n",
        "# 2. 성능 조건: 실행 시간이 3.0초 이내인가?\n",
        "# 3. 출력 조건: 앞 10개 값과 실행 시간이 정확히 출력되었는가?\n",
        "\n",
        "if times_timSort[0] <= 3: # 2번 조건을 만족하는지 판단\n",
        "  print(\"실행시간: \", times_timSort[0]) # 3번 조건을 만족하는지 확인\n",
        "  print(sorted_numbers[0:10]) # 1번 조건과 3번 조건을 만족하는지 확인\n",
        "  print('PASSCORD =',\"'TRUE'\")\n",
        "else:\n",
        "  print('PASSCORD =',\"'FALSE'\")"
      ],
      "metadata": {
        "colab": {
          "base_uri": "https://localhost:8080/"
        },
        "id": "SRauWIz9ZIUO",
        "outputId": "a016e494-a6f5-4bc2-c100-e3ecdd916747"
      },
      "execution_count": null,
      "outputs": [
        {
          "output_type": "stream",
          "name": "stdout",
          "text": [
            "실행시간:  0.05045604705810547\n",
            "[1, 2, 3, 4, 5, 5, 7, 8, 10, 10]\n",
            "PASSCORD = 'TRUE'\n"
          ]
        }
      ]
    },
    {
      "cell_type": "code",
      "source": [
        "'''\n",
        "[프롬포트 내역]\n",
        "생성형 인공지능을 사용하지 않았습니다. 기존에 준비해둔 연습용 코드를 활용하였습니다.\n",
        "\n",
        "[5번 문제 출력예시]\n",
        "# [1, 2, 3, 4, 5, 5, 7, 8, 10, 10]\n",
        "# 실행시간: 0.05045604705810547\n",
        "# PASSCORD = 'TRUE'\n",
        "'''"
      ],
      "metadata": {
        "id": "CBCpGXgq1JZM"
      },
      "execution_count": null,
      "outputs": []
    }
  ]
}