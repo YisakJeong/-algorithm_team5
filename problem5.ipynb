{
  "nbformat": 4,
  "nbformat_minor": 0,
  "metadata": {
    "colab": {
      "provenance": [],
      "authorship_tag": "ABX9TyMlaHSfxV27o1MbjYhZyiXd",
      "include_colab_link": true
    },
    "kernelspec": {
      "name": "python3",
      "display_name": "Python 3"
    },
    "language_info": {
      "name": "python"
    }
  },
  "cells": [
    {
      "cell_type": "markdown",
      "metadata": {
        "id": "view-in-github",
        "colab_type": "text"
      },
      "source": [
        "<a href=\"https://colab.research.google.com/github/YisakJeong/-algorithm_team5/blob/main/problem5.ipynb\" target=\"_parent\"><img src=\"https://colab.research.google.com/assets/colab-badge.svg\" alt=\"Open In Colab\"/></a>"
      ]
    },
    {
      "cell_type": "code",
      "execution_count": 1,
      "metadata": {
        "id": "ZNI8A1wXoip4"
      },
      "outputs": [],
      "source": [
        "# 필요한 패키지(라이브러리)\n",
        "import pandas as pd\n",
        "import random\n",
        "import time"
      ]
    },
    {
      "cell_type": "code",
      "source": [
        "# 분석 데이터를 numbers로 저장\n",
        "\n",
        "numbers = [random.randint(0, 10**6) for _ in range(10**6)]\n",
        "print(f\" 정렬되지 않은 숫자 리스트: \\n {numbers[0:10]}...\") # 테스트용 리스트의 일부만 출력\n",
        "print(f\" 정렬되지 않은 리스트 길이: {len(numbers)}\")"
      ],
      "metadata": {
        "colab": {
          "base_uri": "https://localhost:8080/"
        },
        "id": "WCsZQX0x2pXo",
        "outputId": "c8edfab7-240c-4a93-9e6f-21d1b2f8e742"
      },
      "execution_count": 2,
      "outputs": [
        {
          "output_type": "stream",
          "name": "stdout",
          "text": [
            " 정렬되지 않은 숫자 리스트: \n",
            " [782036, 908079, 226530, 962815, 632289, 722193, 922024, 190335, 256305, 152417]...\n",
            " 정렬되지 않은 리스트 길이: 1000000\n"
          ]
        }
      ]
    },
    {
      "cell_type": "code",
      "source": [
        "# 정렬 정확성, 실행 시간, 출력값을 동시에 검사하여 조건을 만족하면 \"TRUE\", 하나라도 어기면 \"FALSE\"를 출력한다.\n",
        "sorted = numbers.sort()\n",
        "\n",
        "print(f\"sort: \\n {sorted[0:10]}\")\n",
        "print(\"=\"*65)\n",
        "print(f\"정렬된 리스트 길이: {len(sorted)}\")\n",
        "\n",
        "# 정렬된 리스트가 동일한지 확인\n",
        "if timSort_sorted == merge_sorted == quick_sorted:\n",
        "    print(\"정렬된 리스트가 동일합니다.\")\n",
        "else:\n",
        "    print(\"정렬된 리스트가 동일하지 않습니다.\")"
      ],
      "metadata": {
        "id": "Ins5rTJr3ygw",
        "colab": {
          "base_uri": "https://localhost:8080/"
        },
        "outputId": "1ef3811f-5c2d-48ea-88ac-783588d8232f"
      },
      "execution_count": null,
      "outputs": [
        {
          "output_type": "stream",
          "name": "stdout",
          "text": [
            "Timsort: \n",
            " [1, 1, 5, 5, 6, 6, 6, 7, 9, 9] \n",
            " 병합정렬: \n",
            " [1, 1, 5, 5, 6, 6, 6, 7, 9, 9] \n",
            " 퀵정렬: \n",
            " [1, 1, 5, 5, 6, 6, 6, 7, 9, 9]\n",
            "=================================================================\n",
            "정렬된 리스트 길이: 1000000\n",
            "정렬된 리스트가 동일합니다.\n"
          ]
        }
      ]
    },
    {
      "cell_type": "code",
      "source": [
        "# 알고리즘 시간 복잡도 분석\n",
        "\n",
        "# 실행 시간을 저장할 리스트\n",
        "times_timSort = []\n",
        "times_merge = []\n",
        "times_quick = []"
      ],
      "metadata": {
        "id": "-rYwwvxj2qRJ"
      },
      "execution_count": null,
      "outputs": []
    }
  ]
}