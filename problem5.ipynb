{
  "nbformat": 4,
  "nbformat_minor": 0,
  "metadata": {
    "colab": {
      "provenance": [],
      "authorship_tag": "ABX9TyOpHIgmyEaWycZvS69o6ebB",
      "include_colab_link": true
    },
    "kernelspec": {
      "name": "python3",
      "display_name": "Python 3"
    },
    "language_info": {
      "name": "python"
    }
  },
  "cells": [
    {
      "cell_type": "markdown",
      "metadata": {
        "id": "view-in-github",
        "colab_type": "text"
      },
      "source": [
        "<a href=\"https://colab.research.google.com/github/YisakJeong/-algorithm_team5/blob/main/problem5.ipynb\" target=\"_parent\"><img src=\"https://colab.research.google.com/assets/colab-badge.svg\" alt=\"Open In Colab\"/></a>"
      ]
    },
    {
      "cell_type": "code",
      "source": [
        "# pip install matplotlib"
      ],
      "metadata": {
        "id": "gnA2_qNG2zPp"
      },
      "execution_count": null,
      "outputs": []
    },
    {
      "cell_type": "code",
      "execution_count": null,
      "metadata": {
        "id": "ZNI8A1wXoip4"
      },
      "outputs": [],
      "source": [
        "# 필요한 패키지(라이브러리)\n",
        "import pandas as pd\n",
        "import random\n",
        "import time\n",
        "import matplotlib.pyplot as plt  # 터미널에서 pip install matplotlib으로 설치 필요\n",
        "# import numpy as np"
      ]
    },
    {
      "cell_type": "code",
      "source": [
        "# 분석 데이터를 numbers로 저장\n",
        "\n",
        "#numbers = pd.read_csv(\"numbers.csv\") # 파일명 변환 필요\n",
        "#numbers = df['values'].tolist() # 리스트화가 되어있지 않을 경우\n",
        "numbers = [random.randint(0, 10**6) for _ in range(10**6)]\n",
        "print(f\" 정렬되지 않은 숫자 리스트: \\n {numbers[0:10]}...\") # 테스트용 리스트의 일부만 출력\n",
        "print(f\" 정렬되지 않은 리스트 길이: {len(numbers)}\")"
      ],
      "metadata": {
        "colab": {
          "base_uri": "https://localhost:8080/"
        },
        "id": "WCsZQX0x2pXo",
        "outputId": "db1d64e0-59bd-4525-ee21-96cbfcef7180"
      },
      "execution_count": null,
      "outputs": [
        {
          "output_type": "stream",
          "name": "stdout",
          "text": [
            " 정렬되지 않은 숫자 리스트: \n",
            " [734510, 822030, 476281, 981904, 120457, 167801, 797949, 452007, 878655, 802633]...\n",
            " 정렬되지 않은 리스트 길이: 1000000\n"
          ]
        }
      ]
    },
    {
      "cell_type": "markdown",
      "source": [
        "**입력 최적화(데이터가 파일이 아닌 입력받아야 하는 경우)**\n",
        "\n",
        "* 전체 입력을 한 번에 읽고 나서 파싱(데이터의 구조 or 형식 변환)하는 방식\n",
        "* 특히, 여러 줄의 숫자를 빠르게 읽어야 할 때 유리함\n",
        "\n",
        "```\n",
        "import sys\n",
        "\n",
        "data = sys.stdin.read()\n",
        "arr = list(map(int, data.split()))\n",
        "```\n",
        "* 입력 형식에 맞춰 커스터마이징(리스트 형식으로)\n",
        "```\n",
        "arr = list(map(int, sys.stdin.readline().split()))\n",
        "```\n",
        "or 여러줄에 걸쳐 데이터를 입력받을 경우\n",
        "```\n",
        "arr = [int(sys.stdin.readline()) for _ in range(n)]\n",
        "```"
      ],
      "metadata": {
        "id": "Oo2eudko44VN"
      }
    },
    {
      "cell_type": "code",
      "source": [
        "# 삽입정렬\n",
        "def insert_sort(arr, left, right):\n",
        "    for i in range(left +1, right + 1):\n",
        "        temp = arr[i]\n",
        "        j = i - 1\n",
        "        while j >= left and arr[j] > temp:\n",
        "            arr[j + 1] = arr[j]\n",
        "            j -= 1\n",
        "        arr[j + 1] = temp\n",
        "    return arr\n",
        "\n",
        "# insert_sorted = insert_sort(numbers, 0, len(numbers) - 1)"
      ],
      "metadata": {
        "id": "nrtDbMor3teB"
      },
      "execution_count": null,
      "outputs": []
    },
    {
      "cell_type": "code",
      "source": [
        "# 병합 정렬 (Merge Sort)\n",
        "def merge_sort(arr):\n",
        "    #기본 조건: 리스트 길이가 1 이하이면 그대로 반환(정렬할 필요 없음)\n",
        "    if len(arr) <= 1:\n",
        "        return arr\n",
        "\n",
        "    # 중간 인덱스를 배열을 반으로 나눔\n",
        "    mid = len(arr) // 2\n",
        "\n",
        "    # 왼쪽 절반을 재귀적으로 정렬\n",
        "    left = merge_sort(arr[:mid])\n",
        "\n",
        "    # 오른쪽 절반을 재귀적으로 정렬\n",
        "    right = merge_sort(arr[mid:])\n",
        "\n",
        "    #두 개의 정렬된 리스트를 병합하는 함수 호출후 반환\n",
        "    return merge(left, right)\n",
        "\n",
        "# 두 개의 정렬된 리스트를 병합하는 함수\n",
        "def merge(left, right):\n",
        "    result = [] # 병합된 결과를 저장할 리스트\n",
        "    i = j = 0 # 각 기스트의  연재 배고 위치를 나타내는 인덱스\n",
        "\n",
        "    # 두 리스트를 비교하며 작은 값부터 결과 리스트에 추가\n",
        "    while i < len(left) and j < len(right):\n",
        "        if left[i] < right[j]: #왼쪽 리스트의 값이 작으면 추가\n",
        "            result.append(left[i])\n",
        "            i += 1\n",
        "        else: #오른쪽 리스트의 값이 작으면 추가\n",
        "            result.append(right[j])\n",
        "            j += 1\n",
        "\n",
        "    # 남은 요소들을 결과 리스트에 추가(왼쪽 리스트에 남아 있는 경우)\n",
        "    result.extend(left[i:])\n",
        "\n",
        "    # 남은 요소들을 결과 리스트에 추가(오른쪽 리스트에 남아 있는 경우)\n",
        "    result.extend(right[j:])\n",
        "\n",
        "    return result #최종 정렬된 리스트 반환\n",
        "\n",
        "merge_sorted = merge_sort(numbers)"
      ],
      "metadata": {
        "id": "0BTyJZZ13tng"
      },
      "execution_count": null,
      "outputs": []
    },
    {
      "cell_type": "code",
      "source": [
        "# 퀵 정렬\n",
        "def quick_sort(arr):\n",
        "    # 종료 조건: 리스트의 길이가 1 이하이면 이미 정렬된 상태이므로 그대로 반환\n",
        "    if len(arr) <= 1:\n",
        "        return arr\n",
        "\n",
        "    # Pivot(기준 값)을 리스트의 중간값으로 설정\n",
        "    pivot = arr[len(arr) // 2]\n",
        "\n",
        "    # 리스트를 Pivot을 기준으로 나누기\n",
        "    left = [x for x in arr if x < pivot]     # Pivot보다 작은 값들\n",
        "    middle = [x for x in arr if x == pivot]  # Pivot과 같은 값들\n",
        "    right = [x for x in arr if x > pivot]    # Pivot보다 큰 값들\n",
        "\n",
        "    # 재귀 호출을 통해 left와 right를 정렬하고, middle과 함께 합쳐서 반환\n",
        "    return quick_sort(left) + middle + quick_sort(right)\n",
        "\n",
        "quick_sorted = quick_sort(numbers)"
      ],
      "metadata": {
        "id": "ZxmnAMK53tvm"
      },
      "execution_count": null,
      "outputs": []
    },
    {
      "cell_type": "code",
      "source": [
        "# Timsort 구현\n",
        "Min_merge = 64\n",
        "\n",
        "def timSort(arr):\n",
        "    def calcMinRun(n):\n",
        "        r = 0\n",
        "        while n >= Min_merge:\n",
        "            r |= n & 1\n",
        "            n >>= 1\n",
        "        return n + r\n",
        "\n",
        "    n = len(arr)\n",
        "    minRun = calcMinRun(n)\n",
        "\n",
        "    # 각 부분 리스트를 삽입 정렬로 정렬\n",
        "    for start in range(0, n, minRun):\n",
        "        end = min(start + minRun - 1, n - 1)\n",
        "        insert_sort(arr, start, end)\n",
        "\n",
        "    currentSize = minRun\n",
        "    while currentSize < n:\n",
        "        for start in range(0, n, currentSize * 2):\n",
        "            mid = min(n - 1, start + currentSize - 1)\n",
        "            right = min(start + 2 * currentSize - 1, n - 1)\n",
        "            # 두 개의 정렬된 리스트를 병합\n",
        "            merged = merge(arr[start:mid + 1], arr[mid + 1:right + 1])\n",
        "            arr[start:start + len(merged)] = merged\n",
        "\n",
        "        currentSize *= 2\n",
        "\n",
        "    return arr\n",
        "\n",
        "timSort_sorted = timSort(numbers)"
      ],
      "metadata": {
        "id": "w4GvpMX-3t4Y"
      },
      "execution_count": null,
      "outputs": []
    },
    {
      "cell_type": "code",
      "source": [
        "print(f\"Timsort: \\n {timSort_sorted[0:10]} \\n 병합정렬: \\n {merge_sorted[0:10]} \\n 퀵정렬: \\n {quick_sorted[0:10]}\")\n",
        "print(\"=\"*65)\n",
        "print(f\"정렬된 리스트 길이: {len(timSort_sorted)}\")\n",
        "\n",
        "# 정렬된 리스트가 동일한지 확인\n",
        "if timSort_sorted == merge_sorted == quick_sorted:\n",
        "    print(\"정렬된 리스트가 동일합니다.\")\n",
        "else:\n",
        "    print(\"정렬된 리스트가 동일하지 않습니다.\")"
      ],
      "metadata": {
        "id": "Ins5rTJr3ygw",
        "colab": {
          "base_uri": "https://localhost:8080/"
        },
        "outputId": "1ef3811f-5c2d-48ea-88ac-783588d8232f"
      },
      "execution_count": null,
      "outputs": [
        {
          "output_type": "stream",
          "name": "stdout",
          "text": [
            "Timsort: \n",
            " [1, 1, 5, 5, 6, 6, 6, 7, 9, 9] \n",
            " 병합정렬: \n",
            " [1, 1, 5, 5, 6, 6, 6, 7, 9, 9] \n",
            " 퀵정렬: \n",
            " [1, 1, 5, 5, 6, 6, 6, 7, 9, 9]\n",
            "=================================================================\n",
            "정렬된 리스트 길이: 1000000\n",
            "정렬된 리스트가 동일합니다.\n"
          ]
        }
      ]
    },
    {
      "cell_type": "code",
      "source": [
        "# 알고리즘 시간 복잡도 분석\n",
        "\n",
        "# 실행 시간을 저장할 리스트\n",
        "times_timSort = []\n",
        "times_merge = []\n",
        "times_quick = []\n",
        "\n",
        "#실행 시간 측정\n",
        "# Timsort 실행 시간 측정\n",
        "start_time = time.time()\n",
        "timSort(numbers)\n",
        "end_time = time.time()\n",
        "times_timSort.append(end_time - start_time)\n",
        "\n",
        "# 병합 정렬 실행 시간 측정\n",
        "start_time = time.time()\n",
        "merge_sort(numbers)\n",
        "end_time = time.time()\n",
        "times_merge.append(end_time - start_time)\n",
        "\n",
        "# 퀵 정렬 실행 시간 측정\n",
        "start_time = time.time()\n",
        "quick_sort(numbers)\n",
        "end_time = time.time()\n",
        "times_quick.append(end_time - start_time)"
      ],
      "metadata": {
        "id": "-rYwwvxj2qRJ"
      },
      "execution_count": null,
      "outputs": []
    },
    {
      "cell_type": "code",
      "source": [
        "# 그래프 그리기\n",
        "\n",
        "# 막대 너비 설정\n",
        "width = 0.25\n",
        "# 막대 위치 설정\n",
        "plt.bar(1 - width, times_timSort, width, label='timSort')\n",
        "plt.bar(1, times_merge, width, label='Merge Sort')\n",
        "plt.bar(1 + width, times_quick, width, label='Quick Sort')\n",
        "# 그래프 제목 및 레이블 설정\n",
        "plt.ylabel(\"Performance Time (seconds)\", fontweight='bold')\n",
        "plt.xlabel(\"Sorting Algorithms\", fontweight='bold')\n",
        "plt.xticks([1 - width, 1, 1 + width], ['Timsort', 'Merge Sort', 'Quick Sort'])\n",
        "plt.title(\"Sorting Algorithm Performance Comparison \\n\", fontweight='bold', fontsize = 15)\n",
        "plt.legend()\n",
        "plt.grid(True, axis='y', linestyle='--', alpha=0.6)\n",
        "plt.show()"
      ],
      "metadata": {
        "id": "NcXe6JOZ3Nz3",
        "colab": {
          "base_uri": "https://localhost:8080/",
          "height": 497
        },
        "outputId": "5fabd2bb-c6bb-4a2d-f7c2-ddf1c03dcafe"
      },
      "execution_count": null,
      "outputs": [
        {
          "output_type": "display_data",
          "data": {
            "text/plain": [
              "<Figure size 640x480 with 1 Axes>"
            ],
            "image/png": "[encoded data removed]"
          },
          "metadata": {}
        }
      ]
    }
  ]
}