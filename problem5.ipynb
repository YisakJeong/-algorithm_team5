{
  "nbformat": 4,
  "nbformat_minor": 0,
  "metadata": {
    "colab": {
      "provenance": [],
      "authorship_tag": "ABX9TyPLiJpVB1smewBkTnj+NOu6",
      "include_colab_link": true
    },
    "kernelspec": {
      "name": "python3",
      "display_name": "Python 3"
    },
    "language_info": {
      "name": "python"
    }
  },
  "cells": [
    {
      "cell_type": "markdown",
      "metadata": {
        "id": "view-in-github",
        "colab_type": "text"
      },
      "source": [
        "<a href=\"https://colab.research.google.com/github/YisakJeong/-algorithm_team5/blob/main/problem5.ipynb\" target=\"_parent\"><img src=\"https://colab.research.google.com/assets/colab-badge.svg\" alt=\"Open In Colab\"/></a>"
      ]
    },
    {
      "cell_type": "code",
      "execution_count": 1,
      "metadata": {
        "id": "ZNI8A1wXoip4"
      },
      "outputs": [],
      "source": [
        "# 필요한 패키지(라이브러리)\n",
        "import pandas as pd\n",
        "import random\n",
        "import time"
      ]
    },
    {
      "cell_type": "code",
      "source": [
        "# 분석 데이터를 numbers로 저장\n",
        "\n",
        "numbers = [random.randint(0, 10**6) for _ in range(10**6)]\n",
        "print(f\" 정렬되지 않은 숫자 리스트: \\n {numbers[0:10]}...\") # 테스트용 리스트의 일부만 출력\n",
        "print(f\" 정렬되지 않은 리스트 길이: {len(numbers)}\")"
      ],
      "metadata": {
        "colab": {
          "base_uri": "https://localhost:8080/"
        },
        "id": "WCsZQX0x2pXo",
        "outputId": "8b2c858f-373d-4347-b899-70227335fc68"
      },
      "execution_count": 15,
      "outputs": [
        {
          "output_type": "stream",
          "name": "stdout",
          "text": [
            " 정렬되지 않은 숫자 리스트: \n",
            " [291514, 759907, 78452, 276582, 472312, 503558, 223281, 808474, 38330, 52635]...\n",
            " 정렬되지 않은 리스트 길이: 1000000\n"
          ]
        }
      ]
    },
    {
      "cell_type": "code",
      "source": [
        "numbers.sort()\n",
        "sorted_numbers = numbers\n",
        "\n",
        "print(f\"sort: \\n {sorted_numbers[0:10]}\")\n",
        "print(\"=\"*65)\n",
        "print(f\"정렬된 리스트 길이: {len(sorted_numbers)}\")"
      ],
      "metadata": {
        "id": "Ins5rTJr3ygw",
        "colab": {
          "base_uri": "https://localhost:8080/"
        },
        "outputId": "c14566db-1c30-48ed-f125-b20335dff307"
      },
      "execution_count": 41,
      "outputs": [
        {
          "output_type": "stream",
          "name": "stdout",
          "text": [
            "sort: \n",
            " [1, 2, 3, 4, 5, 5, 7, 8, 10, 10]\n",
            "=================================================================\n",
            "정렬된 리스트 길이: 1000000\n"
          ]
        }
      ]
    },
    {
      "cell_type": "code",
      "source": [
        "# 알고리즘 시간 복잡도 분석\n",
        "\n",
        "# 실행 시간을 저장할 리스트\n",
        "times_timSort = []\n",
        "\n",
        "#실행 시간 측정\n",
        "# 기본 정렬 함수 실행 시간 측정\n",
        "start_time = time.time()\n",
        "numbers.sort()\n",
        "end_time = time.time()\n",
        "times_timSort.append(end_time - start_time)\n",
        "\n",
        "print(f\"실행 시간: {times_timSort[0]}\")"
      ],
      "metadata": {
        "id": "-rYwwvxj2qRJ",
        "colab": {
          "base_uri": "https://localhost:8080/"
        },
        "outputId": "be5137b0-2683-43a3-e382-3f099e2d4e82"
      },
      "execution_count": 43,
      "outputs": [
        {
          "output_type": "stream",
          "name": "stdout",
          "text": [
            "실행 시간: 0.05045604705810547\n"
          ]
        }
      ]
    },
    {
      "cell_type": "code",
      "source": [
        "if times_timSort[0] <= 3:\n",
        "  print(\"실행시간: \", times_timSort[0])\n",
        "  print(sorted_numbers[0:10])\n",
        "  print('PASSCORD =',\"'TRUE'\")\n",
        "else:\n",
        "  print('PASSCORD =',\"'FALSE'\")"
      ],
      "metadata": {
        "colab": {
          "base_uri": "https://localhost:8080/"
        },
        "id": "SRauWIz9ZIUO",
        "outputId": "a016e494-a6f5-4bc2-c100-e3ecdd916747"
      },
      "execution_count": 48,
      "outputs": [
        {
          "output_type": "stream",
          "name": "stdout",
          "text": [
            "실행시간:  0.05045604705810547\n",
            "[1, 2, 3, 4, 5, 5, 7, 8, 10, 10]\n",
            "PASSCORD = 'TRUE'\n"
          ]
        }
      ]
    }
  ]
}