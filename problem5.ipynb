{
  "nbformat": 4,
  "nbformat_minor": 0,
  "metadata": {
    "colab": {
      "provenance": [],
      "authorship_tag": "ABX9TyN0hVZjs5SNQQjvXZO9Xh3r",
      "include_colab_link": true
    },
    "kernelspec": {
      "name": "python3",
      "display_name": "Python 3"
    },
    "language_info": {
      "name": "python"
    }
  },
  "cells": [
    {
      "cell_type": "markdown",
      "metadata": {
        "id": "view-in-github",
        "colab_type": "text"
      },
      "source": [
        "<a href=\"https://colab.research.google.com/github/YisakJeong/-algorithm_team5/blob/main/problem5.ipynb\" target=\"_parent\"><img src=\"https://colab.research.google.com/assets/colab-badge.svg\" alt=\"Open In Colab\"/></a>"
      ]
    },
    {
      "cell_type": "code",
      "execution_count": 1,
      "metadata": {
        "id": "ZNI8A1wXoip4"
      },
      "outputs": [],
      "source": [
        "# 필요한 패키지(라이브러리)\n",
        "import pandas as pd\n",
        "import random\n",
        "import time"
      ]
    },
    {
      "cell_type": "code",
      "source": [
        "# 분석 데이터를 numbers로 저장\n",
        "\n",
        "numbers = [random.randint(0, 10**6) for _ in range(10**6)]\n",
        "print(f\" 정렬되지 않은 숫자 리스트: \\n {numbers[0:10]}...\") # 테스트용 리스트의 일부만 출력\n",
        "print(f\" 정렬되지 않은 리스트 길이: {len(numbers)}\")"
      ],
      "metadata": {
        "colab": {
          "base_uri": "https://localhost:8080/"
        },
        "id": "WCsZQX0x2pXo",
        "outputId": "8b2c858f-373d-4347-b899-70227335fc68"
      },
      "execution_count": 15,
      "outputs": [
        {
          "output_type": "stream",
          "name": "stdout",
          "text": [
            " 정렬되지 않은 숫자 리스트: \n",
            " [291514, 759907, 78452, 276582, 472312, 503558, 223281, 808474, 38330, 52635]...\n",
            " 정렬되지 않은 리스트 길이: 1000000\n"
          ]
        }
      ]
    },
    {
      "cell_type": "code",
      "source": [
        "# 병합 정렬 (Merge Sort)\n",
        "def merge_sort(arr):\n",
        "    #기본 조건: 리스트 길이가 1 이하이면 그대로 반환(정렬할 필요 없음)\n",
        "    if len(arr) <= 1:\n",
        "        return arr\n",
        "\n",
        "    # 중간 인덱스를 배열을 반으로 나눔\n",
        "    mid = len(arr) // 2\n",
        "\n",
        "    # 왼쪽 절반을 재귀적으로 정렬\n",
        "    left = merge_sort(arr[:mid])\n",
        "\n",
        "    # 오른쪽 절반을 재귀적으로 정렬\n",
        "    right = merge_sort(arr[mid:])\n",
        "\n",
        "    #두 개의 정렬된 리스트를 병합하는 함수 호출후 반환\n",
        "    return merge(left, right)\n",
        "\n",
        "# 두 개의 정렬된 리스트를 병합하는 함수\n",
        "def merge(left, right):\n",
        "    result = [] # 병합된 결과를 저장할 리스트\n",
        "    i = j = 0 # 각 기스트의  연재 배고 위치를 나타내는 인덱스\n",
        "\n",
        "    # 두 리스트를 비교하며 작은 값부터 결과 리스트에 추가\n",
        "    while i < len(left) and j < len(right):\n",
        "        if left[i] < right[j]: #왼쪽 리스트의 값이 작으면 추가\n",
        "            result.append(left[i])\n",
        "            i += 1\n",
        "        else: #오른쪽 리스트의 값이 작으면 추가\n",
        "            result.append(right[j])\n",
        "            j += 1\n",
        "\n",
        "    # 남은 요소들을 결과 리스트에 추가(왼쪽 리스트에 남아 있는 경우)\n",
        "    result.extend(left[i:])\n",
        "\n",
        "    # 남은 요소들을 결과 리스트에 추가(오른쪽 리스트에 남아 있는 경우)\n",
        "    result.extend(right[j:])\n",
        "\n",
        "    return result #최종 정렬된 리스트 반환\n",
        "\n",
        "merge_sorted = merge_sort(numbers)"
      ],
      "metadata": {
        "id": "dyHXvjNTUf2y"
      },
      "execution_count": 16,
      "outputs": []
    },
    {
      "cell_type": "code",
      "source": [
        "numbers.sort()\n",
        "sorted_numbers = numbers\n",
        "\n",
        "print(f\"sort: \\n {sorted_numbers[0:10]}\")\n",
        "print(\"=\"*65)\n",
        "print(f\"정렬된 리스트 길이: {len(sorted_numbers)}\")"
      ],
      "metadata": {
        "id": "Ins5rTJr3ygw",
        "colab": {
          "base_uri": "https://localhost:8080/"
        },
        "outputId": "27fdd879-9916-43d0-bd2a-b472b0d4d759"
      },
      "execution_count": 26,
      "outputs": [
        {
          "output_type": "stream",
          "name": "stdout",
          "text": [
            "sort: \n",
            " [1, 2, 3, 4, 5, 5, 7, 8, 10, 10]\n",
            "=================================================================\n",
            "정렬된 리스트 길이: 1000000\n"
          ]
        }
      ]
    },
    {
      "cell_type": "code",
      "source": [
        "# 알고리즘 시간 복잡도 분석\n",
        "\n",
        "# 실행 시간을 저장할 리스트\n",
        "times_timSort = []\n",
        "times_merge = []\n",
        "times_quick = []\n",
        "\n",
        "#실행 시간 측정\n",
        "# 기본 정렬 함수 실행 시간 측정\n",
        "start_time = time.time()\n",
        "numbers.sort()\n",
        "end_time = time.time()\n",
        "times_timSort.append(end_time - start_time)\n",
        "\n",
        "print(f\"sort 실행 시간: {times_timSort[0]}\")"
      ],
      "metadata": {
        "id": "-rYwwvxj2qRJ",
        "colab": {
          "base_uri": "https://localhost:8080/"
        },
        "outputId": "3a88f671-4f35-4dee-be25-d066f0a67e26"
      },
      "execution_count": 25,
      "outputs": [
        {
          "output_type": "stream",
          "name": "stdout",
          "text": [
            "sort 실행 시간: 0.07401394844055176\n"
          ]
        }
      ]
    },
    {
      "cell_type": "code",
      "source": [
        "times_timSort"
      ],
      "metadata": {
        "colab": {
          "base_uri": "https://localhost:8080/"
        },
        "id": "R-Fbo6LWWorm",
        "outputId": "a3e2f7e9-4570-4236-819b-0c04c4e97126"
      },
      "execution_count": 31,
      "outputs": [
        {
          "output_type": "execute_result",
          "data": {
            "text/plain": [
              "[0.07401394844055176]"
            ]
          },
          "metadata": {},
          "execution_count": 31
        }
      ]
    },
    {
      "cell_type": "code",
      "source": [
        "# 정렬 정확성, 실행 시간, 출력값을 동시에 검사하여 조건을 만족하면 \"TRUE\", 하나라도 어기면 \"FALSE\"를 출력한다.\n",
        "# 정렬 정확성, 실행 시간, 출력값을 동시에 검사하여 조건을 만족하면 \"TRUE\", 하나라도 어기면 \"FALSE\"를 출력한다.\n",
        "# 정렬된 리스트가 동일한지 확인\n",
        "print(sorted_numbers[0:10])\n",
        "print(\"실행시간: \", times_timSort[0])\n",
        "print('PASSCORD =',\"'TRUE'\")"
      ],
      "metadata": {
        "colab": {
          "base_uri": "https://localhost:8080/"
        },
        "id": "5ETGrk_4T_Sb",
        "outputId": "a9cb9041-898e-4bda-a55e-309fa2703766"
      },
      "execution_count": 40,
      "outputs": [
        {
          "output_type": "stream",
          "name": "stdout",
          "text": [
            "[1, 2, 3, 4, 5, 5, 7, 8, 10, 10]\n",
            "실행시간:  0.07401394844055176\n",
            "PASSCORD = 'TRUE'\n"
          ]
        }
      ]
    }
  ]
}