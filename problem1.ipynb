{
  "nbformat": 4,
  "nbformat_minor": 0,
  "metadata": {
    "colab": {
      "provenance": [],
      "include_colab_link": true
    },
    "kernelspec": {
      "name": "python3",
      "display_name": "Python 3"
    },
    "language_info": {
      "name": "python"
    }
  },
  "cells": [
    {
      "cell_type": "markdown",
      "metadata": {
        "id": "view-in-github",
        "colab_type": "text"
      },
      "source": [
        "<a href=\"https://colab.research.google.com/github/YisakJeong/-algorithm_team5/blob/main/problem1.ipynb\" target=\"_parent\"><img src=\"https://colab.research.google.com/assets/colab-badge.svg\" alt=\"Open In Colab\"/></a>"
      ]
    },
    {
      "cell_type": "code",
      "execution_count": 1,
      "metadata": {
        "id": "cJLgOfAnXDeT"
      },
      "outputs": [],
      "source": [
        "#선택정렬\n",
        "def selection_sort(arr):\n",
        "  n=len(arr)\n",
        "  for i in range(n): # 배열의 길이만큼 반복\n",
        "    min_idx=i\n",
        "    for j in range(i+1,n):   # 첫 원소의 뒤부터 끝까지 반복하며 최소 인덱스 업데이트\n",
        "      if arr[j]<arr[min_idx]:\n",
        "        min_idx=j\n",
        "    arr[i],arr[min_idx]=arr[min_idx],arr[i] # i와 최소 인덱스와 위치 변경\n",
        "    return arr\n",
        "\n",
        "\n",
        "\n",
        "#삽입정렬\n",
        "def insertion_sort(arr):\n",
        "  for i in range(1,len(arr)): # 두번째 원소부터 시작\n",
        "    key=arr[i]\n",
        "    j=i-1\n",
        "    while j>=0 and arr[j]>key: # 앞의 원소 인덱스가 0보다 같거나 크고 key 값보다 크면 계속 시행\n",
        "      arr[j+1]=arr[j]\n",
        "      j-=1\n",
        "    arr[j+1]=key\n",
        "  return arr\n",
        "\n",
        "#quick 정렬\n",
        "def quick_sort(arr):\n",
        "  if len(arr)<=1:\n",
        "    return arr\n",
        "  pivot=arr[len(arr)//2]\n",
        "  left=[x for x in arr if x<pivot]\n",
        "  middle=[x for x in arr if x==pivot]\n",
        "  right=[x for x in arr if x>pivot ]\n",
        "  return quick_sort(left)+middle+quick_sort(right)\n",
        "\n",
        " # 병합정렬\n",
        "def merge_sort(arr):\n",
        "  if len(arr)<=1:\n",
        "    return arr\n",
        "  mid=len(arr)//2\n",
        "  left=merge_sort(arr[:mid])\n",
        "  right=merge_sort(arr[mid:])\n",
        "  return merge(left,right)\n",
        "\n",
        "def merge(left,right):\n",
        "  result=[]\n",
        "  j=i=0\n",
        "  while i<len(left) and j<len(right):\n",
        "    if left[i]<right[j]:\n",
        "      result.append(left[i])\n",
        "      i+=1\n",
        "    else:\n",
        "      result.append(right[j])\n",
        "      j+=1\n",
        "  result.extend(left[i:])\n",
        "  result.extend(right[j:])\n",
        "\n",
        "# 버블정렬\n",
        "def bubble_sort(arr):\n",
        "  n=len(arr)\n",
        "  for i in range(n):\n",
        "    for j in range(n-i-1):\n",
        "      if arr[j]>arr[j+1]:\n",
        "        arr[j],arr[j+1]=arr[j+1],arr[j]\n",
        "\n",
        "\n",
        "\n",
        "shuffled_list = [\n",
        "    \"-900\", \"3\", \"baz\", \"six^\", \"2\", \"65\", \"comma,\", \"0\", \"adipiscing\", \"-500\",\n",
        "    \"space \", \"foo\", \"15\", \"75\", \"-100\", \"10\", \"one!\", \"lorem\", \"one\", \"-600\",\n",
        "    \"-450\", \"bar\", \"world\", \"five%\", \"star*\", \"ten\", \"four$\", \"500\", \"95\", \"thousand\",\n",
        "    \"300\", \"-50\", \"-25\", \"70\", \"minus\", \"xyz\", \"-200\", \"abc!\", \"do\", \"-888\",\n",
        "    \"35\", \"incididunt\", \"400\", \"7\", \"700\", \"-20\", \"100\", \"500\", \"100\", \"hello\",\n",
        "    \"3a\", \"55\", \"three#\", \"-350\", \"-10\", \"five\", \"4\", \"-4\", \"-700\", \"2\",\n",
        "    \"abc\", \"xyz\", \"-250\", \"2\", \"zero\", \"-650\", \"-15\", \"ten)\", \"consectetur\", \"-1\",\n",
        "    \"45\", \"eight*\", \"elit\", \"-77\", \"-50\", \"ten\", \"0\", \"underscore_\", \"four\", \"-100\",\n",
        "    \"-300\", \"-10\", \"40\", \"-850\", \"seven&\", \"700\", \"-200\", \"amet\", \"-25\", \"1\",\n",
        "    \"33\", \"85\", \"dolore\", \"nine(\", \"99\", \"dolor\", \"6\", \"-999\", \"3\", \"baz\",\n",
        "    \"lorem\", \"six^\", \"bar\", \"seven&\", \"100\", \"xyz\", \"two@\", \"adipiscing\", \"-200\", \"abc!\",\n",
        "    \"-1000\", \"nine(\", \"5\", \"-850\", \"consectetur\", \"999\", \"bar\", \"xyz\", \"-700\", \"999\",\n",
        "    \"foo\", \"plus\", \"70\", \"-900\", \"-20\", \"-250\", \"incididunt\", \"three#\", \"one!\", \"hello\",\n",
        "    \"six^\", \"1\", \"-777\", \"abc\", \"comma,\", \"cat\", \"bar\", \"baz\", \"baz\", \"3a\",\n",
        "    \"abc123\", \"-500\", \"7\", \"-650\", \"-300\", \"hello\", \"bar\", \"NaN\", \"999\", \"space \",\n",
        "    \"999\", \"star*\", \"ten\", \"-450\", \"underscore_\", \"three#\", \"baz\", \"five\", \"-100\", \"-1000\",\n",
        "    \"-100\", \"baz\", \"one\", \"1.5\", \"nine(\", \"-15\", \"five%\", \"5\", \"six^\", \"-300\",\n",
        "    \"consectetur\", \"-100\", \"cat\", \"eight*\", \"baz\", \"baz\", \"space \", \"baz\", \"baz\", \"baz\"\n",
        "]\n",
        "\n"
      ]
    },
    {
      "cell_type": "code",
      "source": [
        "result=quick_sort(shuffled_list)\n",
        "def is_int_convertible(x):\n",
        "    try:\n",
        "        int(x)\n",
        "        return True\n",
        "    except (ValueError, TypeError):\n",
        "        return False\n",
        "\n",
        "\n",
        "# 1. 변환 가능한 문자열만 추출\n",
        "convertible_strings = [x for x in result if isinstance(x, str) and is_int_convertible(x)]\n",
        "convertible_strings=[int(x) for x in convertible_strings]\n",
        "# 2. 중복 제거\n",
        "unique_convertible_strings = list(set(convertible_strings))\n",
        "\n",
        "# 3. 변환 가능한 문자열 출력\n",
        "print(\"변환 가능한 문자열:\", convertible_strings)\n",
        "\n",
        "# 4. 중복 제거 후 출력\n",
        "print(\"중복 제거된 변환 가능한 문자열:\", unique_convertible_strings)"
      ],
      "metadata": {
        "id": "EZ5yfpif4oVQ",
        "colab": {
          "base_uri": "https://localhost:8080/"
        },
        "outputId": "f7de6c91-f3c6-4908-c0da-25caf19035bc"
      },
      "execution_count": 12,
      "outputs": [
        {
          "output_type": "stream",
          "name": "stdout",
          "text": [
            "변환 가능한 문자열: ['-1', '-10', '-10', '-100', '-100', '-100', '-100', '-100', '-1000', '-1000', '-15', '-15', '-20', '-20', '-200', '-200', '-200', '-25', '-25', '-250', '-250', '-300', '-300', '-300', '-350', '-4', '-450', '-450', '-50', '-50', '-500', '-500', '-600', '-650', '-650', '-700', '-700', '-77', '-777', '-850', '-850', '-888', '-900', '-900', '-999', '0', '0', '1', '1', '10', '100', '100', '100', '15', '2', '2', '2', '3', '3', '300', '33', '35', '4', '40', '400', '45', '5', '5', '500', '500', '55', '6', '65', '7', '7', '70', '70', '700', '700', '75', '85', '95', '99', '999', '999', '999', '999']\n",
            "중복 제거된 변환 가능한 문자열: ['0', '65', '-777', '55', '300', '500', '5', '-1', '45', '4', '-200', '-15', '-1000', '-500', '700', '-100', '-600', '-10', '2', '10', '99', '-450', '-50', '40', '85', '-250', '1', '3', '-850', '-300', '-999', '15', '-650', '-4', '6', '35', '7', '95', '-888', '999', '-700', '75', '70', '-900', '-77', '400', '-350', '-20', '-25', '33', '100']\n"
          ]
        }
      ]
    },
    {
      "cell_type": "code",
      "source": [
        "for i in unique_convertible_strings:\n",
        "\n",
        "add=0\n",
        "for i in unique_convertible_strings:\n",
        "  add=add+i\n",
        "print(add)"
      ],
      "metadata": {
        "colab": {
          "base_uri": "https://localhost:8080/",
          "height": 193
        },
        "id": "sKaSK9cGXdaj",
        "outputId": "7a799597-bba7-443f-eedc-346e970cabd0"
      },
      "execution_count": 13,
      "outputs": [
        {
          "output_type": "error",
          "ename": "TypeError",
          "evalue": "unsupported operand type(s) for +: 'int' and 'str'",
          "traceback": [
            "\u001b[0;31m---------------------------------------------------------------------------\u001b[0m",
            "\u001b[0;31mTypeError\u001b[0m                                 Traceback (most recent call last)",
            "\u001b[0;32m<ipython-input-13-728972e78224>\u001b[0m in \u001b[0;36m<cell line: 0>\u001b[0;34m()\u001b[0m\n\u001b[1;32m      1\u001b[0m \u001b[0madd\u001b[0m\u001b[0;34m=\u001b[0m\u001b[0;36m0\u001b[0m\u001b[0;34m\u001b[0m\u001b[0;34m\u001b[0m\u001b[0m\n\u001b[1;32m      2\u001b[0m \u001b[0;32mfor\u001b[0m \u001b[0mi\u001b[0m \u001b[0;32min\u001b[0m \u001b[0munique_convertible_strings\u001b[0m\u001b[0;34m:\u001b[0m\u001b[0;34m\u001b[0m\u001b[0;34m\u001b[0m\u001b[0m\n\u001b[0;32m----> 3\u001b[0;31m   \u001b[0madd\u001b[0m\u001b[0;34m=\u001b[0m\u001b[0madd\u001b[0m\u001b[0;34m+\u001b[0m\u001b[0mi\u001b[0m\u001b[0;34m\u001b[0m\u001b[0;34m\u001b[0m\u001b[0m\n\u001b[0m\u001b[1;32m      4\u001b[0m \u001b[0mprint\u001b[0m\u001b[0;34m(\u001b[0m\u001b[0madd\u001b[0m\u001b[0;34m)\u001b[0m\u001b[0;34m\u001b[0m\u001b[0;34m\u001b[0m\u001b[0m\n",
            "\u001b[0;31mTypeError\u001b[0m: unsupported operand type(s) for +: 'int' and 'str'"
          ]
        }
      ]
    }
  ]
}