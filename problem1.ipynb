{
  "nbformat": 4,
  "nbformat_minor": 0,
  "metadata": {
    "colab": {
      "provenance": [],
      "authorship_tag": "ABX9TyNJojEYQQeoihImVUOLqfv/",
      "include_colab_link": true
    },
    "kernelspec": {
      "name": "python3",
      "display_name": "Python 3"
    },
    "language_info": {
      "name": "python"
    }
  },
  "cells": [
    {
      "cell_type": "markdown",
      "metadata": {
        "id": "view-in-github",
        "colab_type": "text"
      },
      "source": [
        "<a href=\"https://colab.research.google.com/github/YisakJeong/-algorithm_team5/blob/main/problem1.ipynb\" target=\"_parent\"><img src=\"https://colab.research.google.com/assets/colab-badge.svg\" alt=\"Open In Colab\"/></a>"
      ]
    },
    {
      "cell_type": "code",
      "execution_count": null,
      "metadata": {
        "id": "LPUUK9DqWdMI"
      },
      "outputs": [],
      "source": [
        "#선택정렬\n",
        "def selection_sort(arr):\n",
        "  n=len(arr)\n",
        "  for i in range(n): # 배열의 길이만큼 반복\n",
        "    min_idx=i\n",
        "    for j in range(i+1,n):   # 첫 원소의 뒤부터 끝까지 반복하며 최소 인덱스 업데이트\n",
        "      if arr[j]<arr[min_idx]:\n",
        "        min_idx=j\n",
        "    arr[i],arr[min_idx]=arr[min_idx],arr[i] # i와 최소 인덱스와 위치 변경\n",
        "    return arr\n",
        "\n",
        "\n",
        "\n",
        "#삽입정렬\n",
        "def insertion_sort(arr):\n",
        "  for i in range(1,len(arr)): # 두번째 원소부터 시작\n",
        "    key=arr[i]\n",
        "    j=i-1\n",
        "    while j>=0 and arr[j]>key: # 앞의 원소 인덱스가 0보다 같거나 크고 key 값보다 크면 계속 시행\n",
        "      arr[j+1]=arr[j]\n",
        "      j-=1\n",
        "    arr[j+1]=key\n",
        "  return arr\n",
        "\n",
        "#quick 정렬\n",
        "def quick_sort(arr):\n",
        "  if len(arr)<=1:\n",
        "    return arr\n",
        "  pivot=arr[len(arr)//2]\n",
        "  left=[x for x in arr if x<pivot]\n",
        "  middle=[x for x in arr if x==pivot]\n",
        "  right=[x for x in arr if x>pivot ]\n",
        "  return quick_sort(left)+middle+quick_sort(right)\n",
        "\n",
        " # 병합정렬\n",
        "def merge_sort(arr):\n",
        "  if len(arr)<=1:\n",
        "    return arr\n",
        "  mid=len(arr)//2\n",
        "  left=merge_sort(arr[:mid])\n",
        "  right=merge_sort(arr[mid:])\n",
        "  return merge(left,right)\n",
        "\n",
        "def merge(left,right):\n",
        "  result=[]\n",
        "  j=i=0\n",
        "  while i<len(left) and j<len(right):\n",
        "    if left[i]<right[j]:\n",
        "      result.append(left[i])\n",
        "      i+=1\n",
        "    else:\n",
        "      result.append(right[j])\n",
        "      j+=1\n",
        "  result.extend(left[i:])\n",
        "  result.extend(right[j:])\n",
        "\n",
        "# 버블정렬\n",
        "def bubble_sort(arr):\n",
        "  n=len(arr)\n",
        "  for i in range(n):\n",
        "    for j in range(n-i-1):\n",
        "      if arr[j]>arr[j+1]:\n",
        "        arr[j],arr[j+1]=arr[j+1],arr[j]\n",
        "\n",
        "import numpy as np\n",
        "n=int(input(\"숫자를 입력하세요:\"))\n",
        "num_lst=np.random.randint(1,101,size=n).tolist()\n",
        "num_lst\n",
        "\n",
        "\n",
        "\n",
        "\n",
        "\n",
        "\n",
        "###############################################################################\n",
        "# 프롬프트 질의 내역"
      ]
    }
  ]
}