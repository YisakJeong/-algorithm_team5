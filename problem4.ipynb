{
  "nbformat": 4,
  "nbformat_minor": 0,
  "metadata": {
    "colab": {
      "provenance": [],
      "collapsed_sections": [
        "lq9ymPpgo271",
        "50J-RosVo9U5",
        "jkArsJAOpEZP",
        "0ThH8NYHpKci",
        "gGkhkMsLpPI_",
        "8Amj4y3DpWaK"
      ],
      "gpuType": "T4",
      "authorship_tag": "ABX9TyNYz0qBsFgKjyZQ7nEYM+/n",
      "include_colab_link": true
    },
    "kernelspec": {
      "name": "python3",
      "display_name": "Python 3"
    },
    "language_info": {
      "name": "python"
    },
    "accelerator": "GPU"
  },
  "cells": [
    {
      "cell_type": "markdown",
      "metadata": {
        "id": "view-in-github",
        "colab_type": "text"
      },
      "source": [
        "<a href=\"https://colab.research.google.com/github/YisakJeong/-algorithm_team5/blob/main/problem4.ipynb\" target=\"_parent\"><img src=\"https://colab.research.google.com/assets/colab-badge.svg\" alt=\"Open In Colab\"/></a>"
      ]
    },
    {
      "cell_type": "markdown",
      "source": [
        "# 중간고사"
      ],
      "metadata": {
        "id": "i5ld0jRyR7hD"
      }
    },
    {
      "cell_type": "code",
      "source": [
        "import time\n",
        "import sys\n",
        "import tracemalloc\n",
        "\n",
        "sys.setrecursionlimit(10000)  # 깊은 재귀 대비\n",
        "\n",
        "def dfs(x, y, path):\n",
        "    current_time = time.time()\n",
        "    if current_time - start_time > 1.0:\n",
        "        print(\"FAIL (시간 초과)\")\n",
        "        sys.exit()\n",
        "\n",
        "    current_mem = tracemalloc.get_traced_memory()[1] / (1024 * 1024)  # MB 단위\n",
        "    if current_mem > 256:\n",
        "        print(\"FAIL (메모리 초과)\")\n",
        "        sys.exit()\n",
        "\n",
        "    if x < 0 or x >= n or y < 0 or y >= n:\n",
        "        return\n",
        "    if visited[x][y]:\n",
        "        return\n",
        "    if grid[x][y] == 0:\n",
        "        path.append((x, y))\n",
        "        all_paths.append(path.copy())\n",
        "        path.pop()\n",
        "        return\n",
        "\n",
        "    visited[x][y] = True\n",
        "    path.append((x, y))\n",
        "    step = grid[x][y]\n",
        "\n",
        "    for dx, dy in [(-step, 0), (step, 0), (0, -step), (0, step)]:\n",
        "        dfs(x + dx, y + dy, path)\n",
        "\n",
        "    visited[x][y] = False\n",
        "    path.pop()\n",
        "\n",
        "# ✅ 입력 격자\n",
        "grid_input = [\n",
        "    [3, 4, 1, 2, 5, 2, 3, 2, 1, 1],\n",
        "    [1, 2, 3, 2, 1, 4, 2, 2, 3, 2],\n",
        "    [2, 1, 1, 3, 2, 1, 1, 3, 1, 2],\n",
        "    [3, 2, 4, 2, 3, 1, 2, 1, 4, 2],\n",
        "    [1, 3, 2, 1, 1, 2, 4, 3, 2, 3],\n",
        "    [2, 2, 1, 4, 3, 3, 1, 2, 3, 1],\n",
        "    [1, 1, 2, 1, 2, 4, 3, 1, 2, 1],\n",
        "    [3, 3, 1, 2, 3, 1, 1, 4, 2, 2],\n",
        "    [2, 1, 2, 3, 2, 2, 1, 2, 3, 1],\n",
        "    [1, 2, 1, 1, 1, 1, 1, 3, 2, 0]\n",
        "]\n",
        "\n",
        "grid = grid_input\n",
        "n = len(grid)\n",
        "visited = [[False]*n for _ in range(n)]\n",
        "all_paths = []\n",
        "\n",
        "# 타이머 & 메모리 추적 시작\n",
        "start_time = time.time()\n",
        "tracemalloc.start()\n",
        "\n",
        "# DFS 실행\n",
        "dfs(0, 0, path=[])\n",
        "\n",
        "# 결과 출력\n",
        "if all_paths:\n",
        "    print(f\"총 가능한 경로 수: {len(all_paths)}\\n\")\n",
        "    for i, p in enumerate(all_paths, 1):\n",
        "        value_sum = sum(grid[x][y] for x, y in p)\n",
        "        print(f\"[경로 {i}] \" + \" → \".join(f\"({x},{y})\" for x, y in p) + \" → 0 도달 → 성공\")\n",
        "        print(f\"  ↳ 경로 값의 총합: {value_sum}\\n\")\n",
        "\n",
        "    min_length = min(len(p) for p in all_paths)\n",
        "    shortest_paths = [p for p in all_paths if len(p) == min_length]\n",
        "    min_path = shortest_paths[0]\n",
        "    min_sum = sum(grid[x][y] for x, y in min_path)\n",
        "\n",
        "    print(f\"👉 최소 이동한 셀 수: {min_length}\")\n",
        "    print(\"👉 최소 이동 경로: \" + \" → \".join(f\"({x},{y})\" for x, y in min_path) + \" → 0 도달 → 성공\")\n",
        "    print(f\"👉 최소 이동 경로의 셀 값 총합: {min_sum}\")\n",
        "else:\n",
        "    print(\"도달 가능한 경로가 없습니다.\")"
      ],
      "metadata": {
        "colab": {
          "base_uri": "https://localhost:8080/",
          "height": 141
        },
        "id": "sQaM4DpZemZQ",
        "outputId": "fb6fb15e-7275-45b4-d37c-6057bd971780"
      },
      "execution_count": null,
      "outputs": [
        {
          "output_type": "stream",
          "name": "stdout",
          "text": [
            "FAIL (시간 초과)\n"
          ]
        },
        {
          "output_type": "error",
          "ename": "SystemExit",
          "evalue": "",
          "traceback": [
            "An exception has occurred, use %tb to see the full traceback.\n",
            "\u001b[0;31mSystemExit\u001b[0m\n"
          ]
        },
        {
          "output_type": "stream",
          "name": "stderr",
          "text": [
            "/usr/local/lib/python3.11/dist-packages/IPython/core/interactiveshell.py:3561: UserWarning: To exit: use 'exit', 'quit', or Ctrl-D.\n",
            "  warn(\"To exit: use 'exit', 'quit', or Ctrl-D.\", stacklevel=1)\n"
          ]
        }
      ]
    },
    {
      "cell_type": "code",
      "source": [],
      "metadata": {
        "id": "6yuk586pfps8"
      },
      "execution_count": null,
      "outputs": []
    }
  ]
}