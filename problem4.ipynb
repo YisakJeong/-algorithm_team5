{
  "nbformat": 4,
  "nbformat_minor": 0,
  "metadata": {
    "colab": {
      "provenance": [],
      "authorship_tag": "ABX9TyPIbaWsAA3atZmHDE1UZkN9",
      "include_colab_link": true
    },
    "kernelspec": {
      "name": "python3",
      "display_name": "Python 3"
    },
    "language_info": {
      "name": "python"
    }
  },
  "cells": [
    {
      "cell_type": "markdown",
      "metadata": {
        "id": "view-in-github",
        "colab_type": "text"
      },
      "source": [
        "<a href=\"https://colab.research.google.com/github/YisakJeong/-algorithm_team5/blob/main/problem4.ipynb\" target=\"_parent\"><img src=\"https://colab.research.google.com/assets/colab-badge.svg\" alt=\"Open In Colab\"/></a>"
      ]
    },
    {
      "cell_type": "markdown",
      "source": [
        "#문제 4: 순환(재귀) 기반 탈출 알고리즘\n",
        "· 내용: 숫자 격자 내에서 시작 위치부터 도착 지점(0)을 찾아가는 경로 탐색\n",
        "\n",
        "· 준비: DFS 또는 재귀 구조 연습, 이동 조건 및 종료 조건 처리\n",
        "\n",
        "· 비고: 숫자는 이동할 칸 수, 방향 제한 없음, 무한 루프 방지 필요\n",
        "\n",
        "입력 예시\n",
        "\n",
        "3\n",
        "\n",
        "2 5 1\n",
        "\n",
        "6 1 1\n",
        "\n",
        "1 2 0\n",
        "\n",
        "출력 예시\n",
        "\n",
        "YES\n",
        "\n",
        "(0,0) → (0,2) → (1,2) → (2,2) → 0 도달 → 성공"
      ],
      "metadata": {
        "id": "9b02-ZvAVabx"
      }
    },
    {
      "cell_type": "code",
      "execution_count": null,
      "metadata": {
        "id": "rAfjiDrWVTPo"
      },
      "outputs": [],
      "source": [
        "# (x, y) 위치에서 출발, path는 이동한 경로 저장할 리스트 이름\n",
        "def dfs(x, y, path):\n",
        "    # 격자 밖으로 나가면 False 반환해서 더 이상 진행 못하게 (경계 설정)\n",
        "    if x < 0 or x >= n or y < 0 or y >= n:\n",
        "        return False\n",
        "\n",
        "    # 현재 경로 상에서 이미 방문한 적이 있는 칸에 다시 방문하지 못하도록 막아줌 (무한루프 방지)\n",
        "    if visited[x][y]:\n",
        "        return False\n",
        "\n",
        "    # 현재 위치의 값이 0이면 목표 지점 도달 성공\n",
        "    if grid[x][y] == 0:\n",
        "        return True\n",
        "\n",
        "    # 이전에 이 위치에서 목표 지점까지 도달 가능한지 계산한 적 있다면 그 결과를 다시 사용\n",
        "    if memo[x][y] is not None:\n",
        "        if memo[x][y]:\n",
        "            path.append((x, y))\n",
        "        return memo[x][y]\n",
        "\n",
        "    # 이 위치 방문했다고 표시하고, 이동해야할 칸 개수 확인\n",
        "    visited[x][y] = True\n",
        "    path.append((x, y))  # 경로에 현재 위치 추가\n",
        "    step = grid[x][y]\n",
        "\n",
        "    # 현재 위치에서 상하좌우 중 갈 수 있는 곳 이동하고 다음 위치 탐색\n",
        "    for dx, dy in [(-step, 0), (step, 0), (0, -step), (0, step)]:\n",
        "        nx, ny = x + dx, y + dy\n",
        "        if dfs(nx, ny, path): # 다음 위치에서 목표 지점 도달 가능하면 현재 위치도 도달 가능하므로 True 반환\n",
        "            memo[x][y] = True\n",
        "            return True\n",
        "\n",
        "    # 네 방향 다 실패했을 경우\n",
        "    memo[x][y] = False # 이 위치에서는 목표 지점 도달 불가능하다고 기록\n",
        "    visited[x][y] = False # 다른 경로에서 이 칸에 다시 올 수 있도록 초기화해줌\n",
        "    path.pop()  # 이동한 경로에서 현재 위치 제거\n",
        "    return False # 이 위치에서 목표 지점 도달 못함\n",
        "\n",
        "# 격자의 크기 입력 받기\n",
        "n = int(input())\n",
        "grid = [list(map(int, input().split())) for _ in range(n)] # 숫자들로 채워진 격자 만들기\n",
        "\n",
        "# 방문 & 메모이제이션 초기화\n",
        "visited = [[False] * n for _ in range(n)] # 전에 이 위치에 온 적 있는지 확인\n",
        "memo = [[None] * n for _ in range(n)] # 여기서 목표 지점까지 도달 가능한지 결과 저장\n",
        "path = [] # 이동한 경로 저장\n",
        "\n",
        "# 실행\n",
        "if dfs(0, 0, path):\n",
        "    print(\"YES\")\n",
        "    print(\" → \".join(f\"({x},{y})\" for x, y in path) + \" → 0 도달 → 성공\")\n",
        "else:\n",
        "    print(\"NO\")"
      ]
    }
  ]
}