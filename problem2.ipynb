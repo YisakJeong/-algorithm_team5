{
  "nbformat": 4,
  "nbformat_minor": 0,
  "metadata": {
    "colab": {
      "provenance": [],
      "authorship_tag": "ABX9TyObWtbWXEs0Hd3KpKVP3dec",
      "include_colab_link": true
    },
    "kernelspec": {
      "name": "python3",
      "display_name": "Python 3"
    },
    "language_info": {
      "name": "python"
    }
  },
  "cells": [
    {
      "cell_type": "markdown",
      "metadata": {
        "id": "view-in-github",
        "colab_type": "text"
      },
      "source": [
        "<a href=\"https://colab.research.google.com/github/YisakJeong/-algorithm_team5/blob/main/problem2.ipynb\" target=\"_parent\"><img src=\"https://colab.research.google.com/assets/colab-badge.svg\" alt=\"Open In Colab\"/></a>"
      ]
    },
    {
      "cell_type": "code",
      "execution_count": 2,
      "metadata": {
        "id": "3FbdcBd3XrXJ",
        "colab": {
          "base_uri": "https://localhost:8080/"
        },
        "outputId": "42065477-7658-4ff7-b50b-7a72a2627dd7"
      },
      "outputs": [
        {
          "output_type": "stream",
          "name": "stdout",
          "text": [
            "숫자를 입력하세요:10\n",
            "[6, 19, 30, 35, 48, 52, 53, 69, 84, 94]\n",
            "찾고 싶은 숫자를 입력하세요:19\n",
            "YES\n"
          ]
        }
      ],
      "source": [
        "import numpy as np\n",
        "\n",
        "# 반복형 이진탐색색\n",
        "def binary_search(arr,target):\n",
        "  low,high=0,len(arr)-1\n",
        "  while low<=high:\n",
        "    mid=(low+high)//2\n",
        "    if arr[mid]==target:\n",
        "      return \"YES\"\n",
        "    elif arr[mid]<target:\n",
        "      low=mid+1\n",
        "    else:\n",
        "      high=mid-1\n",
        "  return \"NO\"\n",
        "\n",
        "# 재귀형 이진탐색\n",
        "def binary_search_rec(arr, target, low, high):\n",
        "  if low > high:\n",
        "      return \"NO\"\n",
        "  mid = (low + high) // 2\n",
        "  if arr[mid] == target:\n",
        "      return \"YES\"\n",
        "  elif arr[mid] < target:\n",
        "      return binary_search_rec(arr, target, mid + 1, high)\n",
        "  else:\n",
        "      return binary_search_rec(arr, target, low, mid - 1)\n",
        "\n",
        "\n",
        "num=int(input(\"숫자를 입력하세요:\")) # 바로 위에 꺼\n",
        "num_lst=np.random.randint(1,101,size=num).tolist()\n",
        "num_lst.sort()\n",
        "print(num_lst)\n",
        "target=int(input(\"찾고 싶은 숫자를 입력하세요:\"))\n",
        "binary_search_rec(num_lst, target,0,len(num_lst)-1)\n",
        "print(binary_search_rec(num_lst, target,0,len(num_lst)-1))\n",
        "\n",
        "\n",
        "\n",
        "\n",
        "\n",
        "\n",
        "\n",
        "\n",
        "\n",
        "\n",
        "\n",
        "\n",
        "\n",
        "############################################################\n",
        "# 프롬프트 질의 내역"
      ]
    },
    {
      "cell_type": "code",
      "source": [
        "num=int(input(\"숫자를 입력하세요:\"))\n",
        "num_lst=np.random.randint(1,101,size=num).tolist()\n",
        "num_lst.sort()\n",
        "print(num_lst)\n",
        "target=int(input(\"찾고 싶은 숫자를 입력하세요:\"))\n",
        "\n",
        "result=binary_search(num_lst, target)\n",
        "print(result)"
      ],
      "metadata": {
        "colab": {
          "base_uri": "https://localhost:8080/"
        },
        "id": "02pGiPXA6ZBW",
        "outputId": "6b559154-d405-4f2a-b474-e6cde6f8f0b9"
      },
      "execution_count": 3,
      "outputs": [
        {
          "output_type": "stream",
          "name": "stdout",
          "text": [
            "숫자를 입력하세요:5\n",
            "[37, 64, 66, 80, 84]\n",
            "찾고 싶은 숫자를 입력하세요:80\n",
            "YES\n"
          ]
        }
      ]
    },
    {
      "cell_type": "code",
      "source": [
        "products=[\"아이폰 14\",\"갤럭시 S23\",\"맥북 에어\",\"아이폰 14 Pro\",\"에어팟 프로\"]\n",
        "\n",
        "def search_products_by_prefix(products,prefix):\n",
        "  products.sort()\n",
        "  low=lower_bound(products,prefix)\n",
        "  high=upper_bound(products,prefix)\n",
        "  if low==high:\n",
        "    print(\"찾으시는 상품이 없습니다.\") # 상품이 없는 경우\n",
        "  return products[low:high]\n",
        "\n",
        "def lower_bound(arr,prefix): # upper bound 찾기\n",
        "  left,right=0,len(arr)-1\n",
        "  while left<=right:\n",
        "    mid=(left+right)//2\n",
        "    if arr[mid]==prefix:\n",
        "      return mid\n",
        "    elif arr[mid]<prefix:\n",
        "      left=mid+1\n",
        "    else:\n",
        "      right=mid-1\n",
        "  return left\n",
        "\n",
        "def upper_bound(arr,prefix):\n",
        "  upper=prefix[:-1]+chr(ord(prefix[-1])+1) # 맨 마지막\n",
        "\n",
        "  left,right=0,len(arr)-1\n",
        "  while left<=right:\n",
        "    mid=(left+right)//2\n",
        "    if arr[mid]< upper:\n",
        "      left=mid+1\n",
        "    else:\n",
        "      right=mid-1\n",
        "  return right+1\n",
        "\n",
        "\n",
        "keyword=input(\"상품을 입력하세요:\")\n",
        "keyword=keyword.lower()\n",
        "if keyword in [\"iphone\",\"macbook\"]:\n",
        "  print(\"찾으시는 상품이 없습니다.\")\n",
        "  print(\"키워드는 바르게 입력하세요.)예시 맥북\")\n",
        "\n",
        "else:\n",
        "  results=search_products_by_prefix(products,keyword)\n",
        "\n",
        "print(\"검색결과\\n\")\n",
        "for items in results:\n",
        "  print(items)\n"
      ],
      "metadata": {
        "id": "tVBCnI-D6V2G"
      },
      "execution_count": null,
      "outputs": []
    }
  ]
}