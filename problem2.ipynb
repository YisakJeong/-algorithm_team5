{
  "nbformat": 4,
  "nbformat_minor": 0,
  "metadata": {
    "colab": {
      "provenance": [],
      "authorship_tag": "ABX9TyPaM3rTXoQyNcBdm3d/bNvB",
      "include_colab_link": true
    },
    "kernelspec": {
      "name": "python3",
      "display_name": "Python 3"
    },
    "language_info": {
      "name": "python"
    }
  },
  "cells": [
    {
      "cell_type": "markdown",
      "metadata": {
        "id": "view-in-github",
        "colab_type": "text"
      },
      "source": [
        "<a href=\"https://colab.research.google.com/github/YisakJeong/-algorithm_team5/blob/main/problem2.ipynb\" target=\"_parent\"><img src=\"https://colab.research.google.com/assets/colab-badge.svg\" alt=\"Open In Colab\"/></a>"
      ]
    },
    {
      "cell_type": "code",
      "execution_count": 9,
      "metadata": {
        "id": "4YVDELL-Uq1-"
      },
      "outputs": [],
      "source": [
        "def find_target_index_sum(numbers, target):\n",
        "    numbers.sort()\n",
        "    start_idx = lower_bound_index(numbers, target)\n",
        "    end_idx = upper_bound_index(numbers, target)\n",
        "\n",
        "    # 값이 존재하지 않는 경우\n",
        "    if start_idx == end_idx:\n",
        "        print(\"NOT FOUND\")\n",
        "        print(\"PASSCORD = 'notfound'\")\n",
        "    else:\n",
        "        print(f'{start_idx} {end_idx-1}')\n",
        "        print(start_idx + (end_idx - 1))\n",
        "\n",
        "def lower_bound_index(arr, target):\n",
        "    left, right = 0, len(arr) - 1\n",
        "    while left <= right:\n",
        "        mid = (left + right) // 2\n",
        "        if arr[mid] < target:\n",
        "            left = mid + 1\n",
        "        else:\n",
        "            right = mid - 1\n",
        "    return left\n",
        "\n",
        "def upper_bound_index(arr, target):\n",
        "    left, right = 0, len(arr) - 1\n",
        "    while left <= right:\n",
        "        mid = (left + right) // 2\n",
        "        if arr[mid] <= target:\n",
        "            left = mid + 1\n",
        "        else:\n",
        "            right = mid - 1\n",
        "    return left\n"
      ]
    },
    {
      "cell_type": "code",
      "source": [
        "lst = [31, -36, -47, 44, -15, -19, -22, -33, 44, -37, 36, 44, 19, -39, 25, 4, -46, -47, -39, -23,\n",
        " -21, 14, 27, -47, 21, -25, 41, 33, 39, 19, 3, -22, 7, 25, -15, -50, 47, -30, 39, 4,\n",
        " -7, -15, -31, -23, 47, -7, -37, -39, -2, -38, -5, -6, 27, -17, -45, 43, 8, 18, -35, -2,\n",
        " -40, 20, -13, 30, 29, -4, 23, -26, 40, -42, -45, 34, -21, 48, -13, -40, -21, -38, -2, -15,\n",
        " 8, 31, -4, -30, -3, -5, -24, 35, -16, 39, 37, 32, -41, 27, 31, -29, 18, 43, -19, -30]\n",
        "\n",
        "target = -15\n",
        "\n",
        "find_target_index_sum(lst, target)"
      ],
      "metadata": {
        "colab": {
          "base_uri": "https://localhost:8080/"
        },
        "id": "fHl5aGBhYaIL",
        "outputId": "fb59f353-2e52-420d-c316-7d97dd3483ff"
      },
      "execution_count": 10,
      "outputs": [
        {
          "output_type": "stream",
          "name": "stdout",
          "text": [
            "40 43\n",
            "83\n"
          ]
        }
      ]
    },
    {
      "cell_type": "code",
      "source": [],
      "metadata": {
        "id": "_wJVR3m5WTa2"
      },
      "execution_count": null,
      "outputs": []
    }
  ]
}