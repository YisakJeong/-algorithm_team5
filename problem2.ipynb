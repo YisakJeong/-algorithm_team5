{
  "nbformat": 4,
  "nbformat_minor": 0,
  "metadata": {
    "colab": {
      "provenance": [],
      "authorship_tag": "ABX9TyNkBGje46JwFx8OdMJlmHKf",
      "include_colab_link": true
    },
    "kernelspec": {
      "name": "python3",
      "display_name": "Python 3"
    },
    "language_info": {
      "name": "python"
    }
  },
  "cells": [
    {
      "cell_type": "markdown",
      "metadata": {
        "id": "view-in-github",
        "colab_type": "text"
      },
      "source": [
        "<a href=\"https://colab.research.google.com/github/YisakJeong/-algorithm_team5/blob/main/problem2.ipynb\" target=\"_parent\"><img src=\"https://colab.research.google.com/assets/colab-badge.svg\" alt=\"Open In Colab\"/></a>"
      ]
    },
    {
      "cell_type": "code",
      "execution_count": null,
      "metadata": {
        "id": "4YVDELL-Uq1-"
      },
      "outputs": [],
      "source": [
        "# 메인 함수\n",
        "def find_target_index_sum(numbers, target):\n",
        "    # 정렬을 먼저 한다\n",
        "    numbers.sort()\n",
        "    # lower bound와 upper bound를 구한다.\n",
        "    start_idx = lower_bound_index(numbers, target)\n",
        "    end_idx = upper_bound_index(numbers, target)\n",
        "\n",
        "    # 값이 존재하지 않는 경우\n",
        "    # 값이 존재하지 않는 경우 마지막 인덱스 바깥 혹은 첫 인덱스 바깥으로 lower bound와 upper bound는 같은 값을 가지게 된다.\n",
        "    if start_idx == end_idx:\n",
        "        print(\"NOT FOUND\")\n",
        "        print(\"PASSCORD = 'notfound'\")\n",
        "    # 값이 존재하는 경우\n",
        "    else:\n",
        "        print(f'{start_idx} {end_idx-1}')\n",
        "        print(f\"PASSCORD = {start_idx} + {end_idx-1} {start_idx + (end_idx - 1)}\")\n",
        "\n",
        "# lower bound index 함수\n",
        "def lower_bound_index(arr, target):\n",
        "    # left는 0으로 right은 마지막 인덱스로 설정\n",
        "    left, right = 0, len(arr) - 1\n",
        "    # 가운데 값이 타켓보다 작으면 left를 mid+1로, 그 외의 경우에는 right을 mid-1로 하면\n",
        "    # left > right이 되는 순간 left는 첫번째 타켓의 인덱스를 가르키게 된다.\n",
        "    # arr[mid] < target 조건이 left를 첫번째 타켓 인덱스로 옮긴다.\n",
        "    while left <= right:\n",
        "        mid = (left + right) // 2\n",
        "        if arr[mid] < target:\n",
        "            left = mid + 1\n",
        "        else:\n",
        "            right = mid - 1\n",
        "    return left\n",
        "\n",
        "# upper bound index 함수\n",
        "def upper_bound_index(arr, target):\n",
        "    # left는 0으로 right은 마지막 인덱스로 설정\n",
        "    left, right = 0, len(arr) - 1\n",
        "    # 가운데 값이 타켓보다 같거나 작으면 left를 mid+1로, 그 외의 경우에는 right을 mid-1로 하면\n",
        "    # left > right이 되는 순간 left는 타켓의 마지막 타켓 인덱스 다음을 가르키게 된다.\n",
        "    # arr[mid] <= target 조건이 left를 마지막 타켓 인덱스 다음으로 밀어낸다.\n",
        "    while left <= right:\n",
        "        mid = (left + right) // 2\n",
        "        if arr[mid] <= target:\n",
        "            left = mid + 1\n",
        "        else:\n",
        "            right = mid - 1\n",
        "    return left\n"
      ]
    },
    {
      "cell_type": "code",
      "source": [
        "# 인풋 설정\n",
        "lst = [31, -36, -47, 44, -15, -19, -22, -33, 44, -37, 36, 44, 19, -39, 25, 4, -46, -47, -39, -23,\n",
        " -21, 14, 27, -47, 21, -25, 41, 33, 39, 19, 3, -22, 7, 25, -15, -50, 47, -30, 39, 4,\n",
        " -7, -15, -31, -23, 47, -7, -37, -39, -2, -38, -5, -6, 27, -17, -45, 43, 8, 18, -35, -2,\n",
        " -40, 20, -13, 30, 29, -4, 23, -26, 40, -42, -45, 34, -21, 48, -13, -40, -21, -38, -2, -15,\n",
        " 8, 31, -4, -30, -3, -5, -24, 35, -16, 39, 37, 32, -41, 27, 31, -29, 18, 43, -19, -30]\n",
        "\n",
        "target = -15\n",
        "\n",
        "# 함수 적용\n",
        "find_target_index_sum(lst, target)\n",
        "\n",
        "'''\n",
        "40 43\n",
        "PASSCORD = 40 + 43 83\n",
        "'''"
      ],
      "metadata": {
        "colab": {
          "base_uri": "https://localhost:8080/",
          "height": 70
        },
        "id": "fHl5aGBhYaIL",
        "outputId": "6d57258e-9c70-428b-e97f-f1dbcfa98911"
      },
      "execution_count": null,
      "outputs": [
        {
          "output_type": "stream",
          "name": "stdout",
          "text": [
            "40 43\n",
            "PASSCORD = 40 + 43 83\n"
          ]
        },
        {
          "output_type": "execute_result",
          "data": {
            "text/plain": [
              "'\\n40 43\\n83\\n'"
            ],
            "application/vnd.google.colaboratory.intrinsic+json": {
              "type": "string"
            }
          },
          "metadata": {},
          "execution_count": 12
        }
      ]
    },
    {
      "cell_type": "code",
      "source": [
        "'''\n",
        "[ChatGPT - 질문]\n",
        "def search_products_by_prefix(products,prefix):\n",
        "  products.sort()\n",
        "  low=lower_bound(products,prefix)\n",
        "  high=upper_bound(products,prefix)\n",
        "  if low==high:\n",
        "    print(\"NOT FOUND\") # 상품이 없는 경우\n",
        "  return products[low:high]\n",
        "\n",
        "def lower_bound(arr,prefix):\n",
        "  left,right=0,len(arr)-1\n",
        "  while left<=right:\n",
        "    mid=(left+right)//2\n",
        "    if arr[mid]==prefix:\n",
        "      return mid\n",
        "    elif arr[mid]<prefix:\n",
        "      left=mid+1\n",
        "    else:\n",
        "      right=mid-1\n",
        "  return left\n",
        "\n",
        "def upper_bound(arr,prefix):\n",
        "  upper=prefix[:-1]+chr(ord(prefix[-1])+1) # 맨 마지막\n",
        "\n",
        "  left,right=0,len(arr)-1\n",
        "  while left<=right:\n",
        "    mid=(left+right)//2\n",
        "    if arr[mid]< upper:\n",
        "      left=mid+1\n",
        "    else:\n",
        "      right=mid-1\n",
        "  return right+1\n",
        "\n",
        "prefix를 target으로 바꿔서 정확히 그 숫자의 인덱스를 알아내는 코드를 원해. 위 코드를 숫자를 받을 시 시작 인덱스 끝 인덱스를 합하는 값을 출력하도록 바꿔줘. 함수 이름도 적당히 바꿔줘.\n",
        "\n",
        "\n",
        "[ChatGPT - 답]\n",
        "아래는 주어진 코드를 숫자 처리 전용으로 리팩토링한 버전입니다:\n",
        "\n",
        "- `prefix` → `target`으로 변수명을 변경하였습니다.\n",
        "- **숫자 리스트**에서 정확한 `target` 값이 존재하는 **시작 인덱스 (lower bound)** 와 **끝 인덱스 (upper bound - 1)** 를 구하고, 이 두 값을 **합산하여 출력**합니다.\n",
        "- 문자 입력은 처리하지 않으며, 함수 이름도 숫자 기반에 맞게 변경하였습니다.\n",
        "\n",
        "```python\n",
        "def find_target_index_sum(numbers, target):\n",
        "    numbers.sort()\n",
        "    start_idx = lower_bound_index(numbers, target)\n",
        "    end_idx = upper_bound_index(numbers, target)\n",
        "\n",
        "    # 값이 존재하지 않는 경우\n",
        "    if start_idx == end_idx:\n",
        "        print(\"NOT FOUND\")\n",
        "    else:\n",
        "        print(start_idx + (end_idx - 1))\n",
        "\n",
        "def lower_bound_index(arr, target):\n",
        "    left, right = 0, len(arr) - 1\n",
        "    while left <= right:\n",
        "        mid = (left + right) // 2\n",
        "        if arr[mid] < target:\n",
        "            left = mid + 1\n",
        "        else:\n",
        "            right = mid - 1\n",
        "    return left\n",
        "\n",
        "def upper_bound_index(arr, target):\n",
        "    left, right = 0, len(arr) - 1\n",
        "    while left <= right:\n",
        "        mid = (left + right) // 2\n",
        "        if arr[mid] <= target:\n",
        "            left = mid + 1\n",
        "        else:\n",
        "            right = mid - 1\n",
        "    return left\n",
        "```\n",
        "\n",
        "### ✅ 사용 예시\n",
        "\n",
        "```python\n",
        "find_target_index_sum([10, 20, 20, 20, 30, 40], 20)\n",
        "# 출력: 1(start) + 3(end) = 4\n",
        "\n",
        "find_target_index_sum([1, 2, 3, 4, 5], 6)\n",
        "# 출력: NOT FOUND\n",
        "```\n",
        "\n",
        "이 코드는 동일한 숫자가 중복 존재할 경우도 정확히 처리합니다. `upper_bound_index()`는 target보다 **큰 첫 번째 값의 인덱스**를 반환합니다.\n",
        "'''"
      ],
      "metadata": {
        "id": "_wJVR3m5WTa2"
      },
      "execution_count": null,
      "outputs": []
    }
  ]
}