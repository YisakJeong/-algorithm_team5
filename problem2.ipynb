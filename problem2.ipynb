{
  "nbformat": 4,
  "nbformat_minor": 0,
  "metadata": {
    "colab": {
      "provenance": [],
      "authorship_tag": "ABX9TyNhynT30RwWcRFitqDKHMiq",
      "include_colab_link": true
    },
    "kernelspec": {
      "name": "python3",
      "display_name": "Python 3"
    },
    "language_info": {
      "name": "python"
    }
  },
  "cells": [
    {
      "cell_type": "markdown",
      "metadata": {
        "id": "view-in-github",
        "colab_type": "text"
      },
      "source": [
        "<a href=\"https://colab.research.google.com/github/YisakJeong/-algorithm_team5/blob/main/problem2.ipynb\" target=\"_parent\"><img src=\"https://colab.research.google.com/assets/colab-badge.svg\" alt=\"Open In Colab\"/></a>"
      ]
    },
    {
      "cell_type": "code",
      "execution_count": null,
      "metadata": {
        "id": "3FbdcBd3XrXJ"
      },
      "outputs": [],
      "source": [
        "import numpy as np\n",
        "\n",
        "# 반복형 이진탐색색\n",
        "def binary_search(arr,target):\n",
        "  low,high=0,len(arr)-1\n",
        "  while low<=high:\n",
        "    mid=(low+high)//2\n",
        "    if arr[mid]==target:\n",
        "      return \"YES\"\n",
        "    elif arr[mid]<target:\n",
        "      low=mid+1\n",
        "    else:\n",
        "      high=mid-1\n",
        "  return \"NO\"\n",
        "\n",
        "# 재귀형 이진탐색\n",
        "def binary_search_rec(arr, target, low, high):\n",
        "  if low > high:\n",
        "      return \"NO\"\n",
        "  mid = (low + high) // 2\n",
        "  if arr[mid] == target:\n",
        "      return \"YES\"\n",
        "  elif arr[mid] < target:\n",
        "      return binary_search_rec(arr, target, mid + 1, high)\n",
        "  else:\n",
        "      return binary_search_rec(arr, target, low, mid - 1)\n",
        "\n",
        "\n",
        "num=int(input(\"숫자를 입력하세요:\"))\n",
        "num_lst=np.random.randint(1,101,size=num).tolist()\n",
        "num_lst.sort()\n",
        "print(num_lst)\n",
        "target=int(input(\"찾고 싶은 숫자를 입력하세요:\"))\n",
        "binary_search_rec(num_lst, target,0,len(num_lst)-1)\n",
        "\n",
        "\n",
        "num=int(input(\"숫자를 입력하세요:\"))\n",
        "num_lst=np.random.randint(1,101,size=num).tolist()\n",
        "num_lst.sort()\n",
        "print(num_lst)\n",
        "target=int(input(\"찾고 싶은 숫자를 입력하세요:\"))\n",
        "\n",
        "result=binary_search(num_lst, target)\n",
        "print(result)\n",
        "\n",
        "\n",
        "\n",
        "\n",
        "\n",
        "\n",
        "\n",
        "\n",
        "\n",
        "\n",
        "############################################################\n",
        "# 프롬프트 질의 내역"
      ]
    }
  ]
}