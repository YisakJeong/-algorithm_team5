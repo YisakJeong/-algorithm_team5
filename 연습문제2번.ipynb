{
  "nbformat": 4,
  "nbformat_minor": 0,
  "metadata": {
    "colab": {
      "provenance": [],
      "authorship_tag": "ABX9TyPZwVJJjzMyAGDDkYIfQPMO",
      "include_colab_link": true
    },
    "kernelspec": {
      "name": "python3",
      "display_name": "Python 3"
    },
    "language_info": {
      "name": "python"
    }
  },
  "cells": [
    {
      "cell_type": "markdown",
      "metadata": {
        "id": "view-in-github",
        "colab_type": "text"
      },
      "source": [
        "<a href=\"https://colab.research.google.com/github/YisakJeong/-algorithm_team5/blob/main/%EC%97%B0%EC%8A%B5%EB%AC%B8%EC%A0%9C2%EB%B2%88.ipynb\" target=\"_parent\"><img src=\"https://colab.research.google.com/assets/colab-badge.svg\" alt=\"Open In Colab\"/></a>"
      ]
    },
    {
      "cell_type": "code",
      "execution_count": 18,
      "metadata": {
        "colab": {
          "base_uri": "https://localhost:8080/"
        },
        "id": "dATAXZTEkcE4",
        "outputId": "176bbe39-ae4b-4bde-db0a-0c3c5de2f0dd"
      },
      "outputs": [
        {
          "output_type": "stream",
          "name": "stdout",
          "text": [
            "상품을 입력하세요:아이폰\n",
            "검색결과\n",
            "\n",
            "아이폰 14\n",
            "아이폰 14 Pro\n"
          ]
        }
      ],
      "source": [
        "products=[\"아이폰 14\",\"갤럭시 S23\",\"맥북 에어\",\"아이폰 14 Pro\",\"에어팟 프로\"]\n",
        "\n",
        "def search_products_by_prefix(products,prefix):\n",
        "  products.sort()\n",
        "  low=lower_bound(products,prefix)\n",
        "  high=upper_bound(products,prefix)\n",
        "  if low==high:\n",
        "    print(\"찾으시는 상품이 없습니다.\") # 상품이 없는 경우\n",
        "  return products[low:high]\n",
        "\n",
        "def lower_bound(arr,prefix): # upper bound 찾기\n",
        "  left,right=0,len(arr)-1\n",
        "  while left<=right:\n",
        "    mid=(left+right)//2\n",
        "    if arr[mid]==prefix:\n",
        "      return mid\n",
        "    elif arr[mid]<prefix:\n",
        "      left=mid+1\n",
        "    else:\n",
        "      right=mid-1\n",
        "  return left\n",
        "\n",
        "def upper_bound(arr,prefix):\n",
        "  upper=prefix[:-1]+chr(ord(prefix[-1])+1) # 맨 마지막\n",
        "\n",
        "  left,right=0,len(arr)-1\n",
        "  while left<=right:\n",
        "    mid=(left+right)//2\n",
        "    if arr[mid]< upper:\n",
        "      left=mid+1\n",
        "    else:\n",
        "      right=mid-1\n",
        "  return right+1\n",
        "\n",
        "\n",
        "keyword=input(\"상품을 입력하세요:\")\n",
        "keyword=keyword.lower()\n",
        "if keyword in [\"iphone\",\"macbook\"]:\n",
        "  print(\"찾으시는 상품이 없습니다.\")\n",
        "  print(\"키워드는 바르게 입력하세요.)예시 맥북\")\n",
        "\n",
        "else:\n",
        "  results=search_products_by_prefix(products,keyword)\n",
        "\n",
        "print(\"검색결과\\n\")\n",
        "for items in results:\n",
        "  print(items)"
      ]
    },
    {
      "cell_type": "code",
      "source": [
        "#! pip install hangul-utils"
      ],
      "metadata": {
        "colab": {
          "base_uri": "https://localhost:8080/"
        },
        "id": "ENB6LPI_mlHV",
        "outputId": "147cd05c-febc-468e-ccb3-0a690519484e"
      },
      "execution_count": 3,
      "outputs": [
        {
          "output_type": "stream",
          "name": "stdout",
          "text": [
            "Collecting hangul-utils\n",
            "  Downloading hangul_utils-0.4.5-py3-none-any.whl.metadata (1.1 kB)\n",
            "\u001b[33mWARNING: Ignoring version 0.4.5 of hangul-utils since it has invalid metadata:\n",
            "Requested hangul-utils from https://files.pythonhosted.org/packages/b8/af/9e1beb71959c171d0dfbdd16e475a3ef45bc4bb4b5fd3d5816aad1c46c3c/hangul_utils-0.4.5-py3-none-any.whl has invalid metadata: Expected matching RIGHT_PARENTHESIS for LEFT_PARENTHESIS, after version specifier\n",
            "    mecab-python (==0.996-ko-0.9.2)\n",
            "                 ~~~~~~~~^\n",
            "Please use pip<24.1 if you need to use this version.\u001b[0m\u001b[33m\n",
            "\u001b[0m  Downloading hangul_utils-0.4.4-py3-none-any.whl.metadata (1.1 kB)\n",
            "\u001b[33mWARNING: Ignoring version 0.4.4 of hangul-utils since it has invalid metadata:\n",
            "Requested hangul-utils from https://files.pythonhosted.org/packages/26/cf/3347a5fa6512dc05a6b840a77fb6067ff89a87587d141959b80c26518208/hangul_utils-0.4.4-py3-none-any.whl has invalid metadata: Expected matching RIGHT_PARENTHESIS for LEFT_PARENTHESIS, after version specifier\n",
            "    mecab-python (==0.996-ko-0.9.2)\n",
            "                 ~~~~~~~~^\n",
            "Please use pip<24.1 if you need to use this version.\u001b[0m\u001b[33m\n",
            "\u001b[0m  Downloading hangul_utils-0.4.3-py3-none-any.whl.metadata (1.1 kB)\n",
            "\u001b[33mWARNING: Ignoring version 0.4.3 of hangul-utils since it has invalid metadata:\n",
            "Requested hangul-utils from https://files.pythonhosted.org/packages/10/d1/fec9e5bab644a42b46e25dc43b71d1c43750438d26faf0c77f6cda6ac850/hangul_utils-0.4.3-py3-none-any.whl has invalid metadata: Expected matching RIGHT_PARENTHESIS for LEFT_PARENTHESIS, after version specifier\n",
            "    mecab-python (==0.996-ko-0.9.2)\n",
            "                 ~~~~~~~~^\n",
            "Please use pip<24.1 if you need to use this version.\u001b[0m\u001b[33m\n",
            "\u001b[0m  Downloading hangul_utils-0.4.2-py3-none-any.whl.metadata (1.1 kB)\n",
            "\u001b[33mWARNING: Ignoring version 0.4.2 of hangul-utils since it has invalid metadata:\n",
            "Requested hangul-utils from https://files.pythonhosted.org/packages/b8/5f/3b5958d05daa5a6dbc2b91c05fffce66b04503d1699eb34abc1ff21287f7/hangul_utils-0.4.2-py3-none-any.whl has invalid metadata: Expected matching RIGHT_PARENTHESIS for LEFT_PARENTHESIS, after version specifier\n",
            "    mecab-python (==0.996-ko-0.9.2)\n",
            "                 ~~~~~~~~^\n",
            "Please use pip<24.1 if you need to use this version.\u001b[0m\u001b[33m\n",
            "\u001b[0m  Downloading hangul_utils-0.4.1-py3-none-any.whl.metadata (1.1 kB)\n",
            "\u001b[33mWARNING: Ignoring version 0.4.1 of hangul-utils since it has invalid metadata:\n",
            "Requested hangul-utils from https://files.pythonhosted.org/packages/3e/42/c5d4042ae23cdb351411e0e2c33b6ddb7d5e4cc7cd836807c3356ed42dce/hangul_utils-0.4.1-py3-none-any.whl has invalid metadata: Expected matching RIGHT_PARENTHESIS for LEFT_PARENTHESIS, after version specifier\n",
            "    mecab-python (==0.996-ko-0.9.2)\n",
            "                 ~~~~~~~~^\n",
            "Please use pip<24.1 if you need to use this version.\u001b[0m\u001b[33m\n",
            "\u001b[0m  Downloading hangul_utils-0.4-py3-none-any.whl.metadata (1.1 kB)\n",
            "\u001b[33mWARNING: Ignoring version 0.4 of hangul-utils since it has invalid metadata:\n",
            "Requested hangul-utils from https://files.pythonhosted.org/packages/ea/e3/1910f386d8ede10529a34a97cebf4f3eb177b556b8e21a44e004e1498cf3/hangul_utils-0.4-py3-none-any.whl has invalid metadata: Expected matching RIGHT_PARENTHESIS for LEFT_PARENTHESIS, after version specifier\n",
            "    mecab-python (==0.996-ko-0.9.2)\n",
            "                 ~~~~~~~~^\n",
            "Please use pip<24.1 if you need to use this version.\u001b[0m\u001b[33m\n",
            "\u001b[0m  Downloading hangul-utils-0.3.0.tar.gz (4.3 kB)\n",
            "  \u001b[1;31merror\u001b[0m: \u001b[1msubprocess-exited-with-error\u001b[0m\n",
            "  \n",
            "  \u001b[31m×\u001b[0m \u001b[32mpython setup.py egg_info\u001b[0m did not run successfully.\n",
            "  \u001b[31m│\u001b[0m exit code: \u001b[1;36m1\u001b[0m\n",
            "  \u001b[31m╰─>\u001b[0m See above for output.\n",
            "  \n",
            "  \u001b[1;35mnote\u001b[0m: This error originates from a subprocess, and is likely not a problem with pip.\n",
            "  Preparing metadata (setup.py) ... \u001b[?25l\u001b[?25herror\n",
            "\u001b[1;31merror\u001b[0m: \u001b[1mmetadata-generation-failed\u001b[0m\n",
            "\n",
            "\u001b[31m×\u001b[0m Encountered error while generating package metadata.\n",
            "\u001b[31m╰─>\u001b[0m See above for output.\n",
            "\n",
            "\u001b[1;35mnote\u001b[0m: This is an issue with the package mentioned above, not pip.\n",
            "\u001b[1;36mhint\u001b[0m: See above for details.\n"
          ]
        }
      ]
    }
  ]
}