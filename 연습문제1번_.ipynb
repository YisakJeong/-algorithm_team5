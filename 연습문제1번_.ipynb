{
  "nbformat": 4,
  "nbformat_minor": 0,
  "metadata": {
    "colab": {
      "provenance": [],
      "authorship_tag": "ABX9TyMQHrEdfc6K38RogTBMtqAm",
      "include_colab_link": true
    },
    "kernelspec": {
      "name": "python3",
      "display_name": "Python 3"
    },
    "language_info": {
      "name": "python"
    }
  },
  "cells": [
    {
      "cell_type": "markdown",
      "metadata": {
        "id": "view-in-github",
        "colab_type": "text"
      },
      "source": [
        "<a href=\"https://colab.research.google.com/github/YisakJeong/-algorithm_team5/blob/main/%EC%97%B0%EC%8A%B5%EB%AC%B8%EC%A0%9C1%EB%B2%88_.ipynb\" target=\"_parent\"><img src=\"https://colab.research.google.com/assets/colab-badge.svg\" alt=\"Open In Colab\"/></a>"
      ]
    },
    {
      "cell_type": "code",
      "execution_count": null,
      "metadata": {
        "id": "einK2Jwcjyzz"
      },
      "outputs": [],
      "source": [
        " #고객의 거래 이력을 날짜순, 금액순으로 정렬하여 분석 보고\n",
        "def read_transaction_csv(file_path):\n",
        "  df=pd.read_csv(file_path)\n",
        "\n",
        "\n",
        "\n",
        "def summarize_transactions(transactions):\n",
        "  grouped=transactions.groupby('고객명')['거래금액'].sum()\n",
        "  customer_totals=grouped.to_dict() # 고객명 거래금액\n",
        "\n",
        "def sort_by_total(customer_totals):\n",
        "  sorted_customers = sorted(customer_totals.items(), key=lambda x: x[1], reverse=True) 거래 금액으로 정렬\n",
        "\n",
        "def sort_by_data(transcations):\n",
        "  datatime.strptime(data_str,'%Y-%m-%d')\n",
        "  sorted_transactions=transactions.sort_values(by='거래일자')\n",
        "  return sorted_transactions\n",
        "\n",
        "def print_report(sorted_customers):\n",
        "  for idx,(customer,total) in enumerate(sorted_customers,1):  # 거래 금액 으로 출력\n",
        "    print(f\"{idx}.{customer}:{total}원\")\n",
        "\n",
        "  for _, row in df_sorted.iterrows():\n",
        "    print(f\"{row['날짜']} {row['고객명']}: {row['거래금액']}원\")     # 날짜 순으로 출력"
      ]
    }
  ]
}