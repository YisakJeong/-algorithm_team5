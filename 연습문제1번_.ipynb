{
  "nbformat": 4,
  "nbformat_minor": 0,
  "metadata": {
    "colab": {
      "provenance": [],
      "authorship_tag": "ABX9TyP3cLhVwqAgzIg/M6g6KH53",
      "include_colab_link": true
    },
    "kernelspec": {
      "name": "python3",
      "display_name": "Python 3"
    },
    "language_info": {
      "name": "python"
    }
  },
  "cells": [
    {
      "cell_type": "markdown",
      "metadata": {
        "id": "view-in-github",
        "colab_type": "text"
      },
      "source": [
        "<a href=\"https://colab.research.google.com/github/YisakJeong/-algorithm_team5/blob/main/%EC%97%B0%EC%8A%B5%EB%AC%B8%EC%A0%9C1%EB%B2%88_.ipynb\" target=\"_parent\"><img src=\"https://colab.research.google.com/assets/colab-badge.svg\" alt=\"Open In Colab\"/></a>"
      ]
    },
    {
      "cell_type": "code",
      "execution_count": 11,
      "metadata": {
        "id": "einK2Jwcjyzz"
      },
      "outputs": [],
      "source": [
        "import pandas as pd\n",
        "from datetime import datetime\n",
        "data = {\n",
        "    \"고객명\": [\"김철수\", \"이영희\", \"박민수\", \"최지우\", \"정해인\"],\n",
        "    \"거래일자\": [\"2025-04-01\", \"2025-04-02\", \"2025-04-03\", \"2025-04-04\", \"2025-04-05\"],\n",
        "    \"거래금액\": [100000, 250000, 175000, 300000, 50000]\n",
        "}\n",
        "# 데이터프레임 생성\n",
        "df = pd.DataFrame(data)\n",
        "\n",
        " #고객의 거래 이력을 날짜순, 금액순으로 정렬하여 분석 보고\n",
        "def read_transaction_csv(file_path):\n",
        "  df=pd.read_csv(file_path)\n",
        "\n",
        "\n",
        "\n",
        "def summarize_transactions(transactions):\n",
        "  grouped=transactions.groupby('고객명')['거래금액'].sum()\n",
        "  customer_totals=grouped.to_dict() # 고객명 거래금액\n",
        "  return customer_totals\n",
        "\n",
        "\n",
        "def sort_by_total(customer_totals):\n",
        "  sorted_customers = sorted(customer_totals.items(), key=lambda x: x[1], reverse=True) #거래 금액으로 정렬\n",
        "  return sorted_customers\n",
        "\n",
        "def sort_by_data(transcations):\n",
        "  datatime.strptime(data_str,'%Y-%m-%d')\n",
        "  sorted_transactions=transactions.sort_values(by='거래일자')\n",
        "  return sorted_transactions\n",
        "\n",
        "def print_report(sorted_customers):\n",
        "  for idx,(customer,total) in enumerate(sorted_customers,1):  # 거래 금액 으로 출력\n",
        "    print(f\"{idx}.{customer}:{total}원\")\n",
        "\n",
        "  for _, row in df_sorted.iterrows():\n",
        "    print(f\"{row['날짜']} {row['고객명']}: {row['거래금액']}원\")     # 날짜 순으로 출력\n",
        "\n",
        "\n"
      ]
    },
    {
      "cell_type": "code",
      "source": [
        "result=summarize_transactions(df)\n",
        "sort_by_total(result)"
      ],
      "metadata": {
        "id": "kTbzJRr5ppor",
        "colab": {
          "base_uri": "https://localhost:8080/"
        },
        "outputId": "2c44e4d8-bcb9-481c-ce32-cb6df7ccfdde"
      },
      "execution_count": 9,
      "outputs": [
        {
          "output_type": "execute_result",
          "data": {
            "text/plain": [
              "[('최지우', 300000),\n",
              " ('이영희', 250000),\n",
              " ('박민수', 175000),\n",
              " ('김철수', 100000),\n",
              " ('정해인', 50000)]"
            ]
          },
          "metadata": {},
          "execution_count": 9
        }
      ]
    },
    {
      "cell_type": "code",
      "source": [],
      "metadata": {
        "id": "Bw90EsXdqcfQ"
      },
      "execution_count": null,
      "outputs": []
    }
  ]
}