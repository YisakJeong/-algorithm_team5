{
  "nbformat": 4,
  "nbformat_minor": 0,
  "metadata": {
    "colab": {
      "provenance": [],
      "authorship_tag": "ABX9TyM+pKuJDuOri0O3J8J6+bp/",
      "include_colab_link": true
    },
    "kernelspec": {
      "name": "python3",
      "display_name": "Python 3"
    },
    "language_info": {
      "name": "python"
    }
  },
  "cells": [
    {
      "cell_type": "markdown",
      "metadata": {
        "id": "view-in-github",
        "colab_type": "text"
      },
      "source": [
        "<a href=\"https://colab.research.google.com/github/YisakJeong/-algorithm_team5/blob/main/Problem3.ipynb\" target=\"_parent\"><img src=\"https://colab.research.google.com/assets/colab-badge.svg\" alt=\"Open In Colab\"/></a>"
      ]
    },
    {
      "cell_type": "code",
      "source": [
        "from datetime import datetime\n",
        "\n",
        "# 1. 시간순 정렬 함수\n",
        "def sort_by_date(data):\n",
        "    # data 열을 기준으로 sort.\n",
        "    return sorted(data, key=lambda x: datetime.strptime(x['date'], \"%Y-%m-%d\"))\n",
        "\n",
        "# 2. 중복 제거 함수 (기준 키로)\n",
        "def remove_duplicates(data, key_field):\n",
        "    # seen은 관찰된 item을 담는다\n",
        "    seen = set()\n",
        "    # result는 중복 제거된 리스트\n",
        "    result = []\n",
        "    # 중복 제거\n",
        "    for item in data:\n",
        "        # item의 key가 seen에 없는 경우, result 및 seen에 추가\n",
        "        if item[key_field] not in seen:\n",
        "            result.append(item)\n",
        "            seen.add(item[key_field])\n",
        "    return result\n",
        "\n",
        "# 3. 가장 오래된 항목 추출 함수\n",
        "def get_oldest_entry(data):\n",
        "    # 정렬된 데이터의 첫번째 element 추출\n",
        "    return data[0] if data else None\n",
        "\n",
        "# 4. 이상치 제거 함수 (score가 0~100 범위를 벗어나면 제거)\n",
        "def outlier(data):\n",
        "    return [item for item in data if 0 <= item.get(\"score\", 0) <= 100]\n",
        "\n",
        "# 5. 누락된 값 처리 함수\n",
        "def missing(data):\n",
        "    # 빈 리스트 생성\n",
        "    cleaned = []\n",
        "    scores = []\n",
        "\n",
        "    for item in data:\n",
        "        # 각 item의 feature 추출\n",
        "        name = item.get(\"name\")\n",
        "        date = item.get(\"date\")\n",
        "        score = item.get(\"score\")\n",
        "\n",
        "        # named이나 date가 비었으면 cleaned.append() 생략\n",
        "        if not name or not date:\n",
        "            continue\n",
        "\n",
        "        # 정상 범위 내의 score를 scores에 추가\n",
        "        if score is not None and 0 <= score <= 100:\n",
        "            scores.append(score)\n",
        "\n",
        "        cleaned.append(item)\n",
        "\n",
        "    # score 평균\n",
        "    avg_score = sum(scores) / len(scores) if scores else 0\n",
        "\n",
        "    # score만 빈 아이템에 평균 점수 채우기\n",
        "    for item in cleaned:\n",
        "        if item.get(\"score\") is None:\n",
        "            item[\"score\"] = round(avg_score)\n",
        "\n",
        "    return cleaned\n",
        "\n",
        "# ✅ 메인 전처리 함수\n",
        "def preprocess_data(data, key_field='name'):\n",
        "    print(\"=\" * 30)\n",
        "    print(\"데이터 전처리 결과\")\n",
        "    print(\"=\" * 30)\n",
        "\n",
        "    print(\"원본 데이터:\")\n",
        "    print(f\"{len(data)}건\")\n",
        "\n",
        "    # 1. 누락값 처리\n",
        "    data = missing(data)\n",
        "\n",
        "    # 2. 이상치 제거\n",
        "    data = outlier(data)\n",
        "\n",
        "    # 3. 시간순 정렬\n",
        "    data_sorted = sort_by_date(data)\n",
        "\n",
        "    # 4. 중복 제거\n",
        "    data_dedup = remove_duplicates(data_sorted, key_field)\n",
        "    print(\"중복 제거 후:\")\n",
        "    print(f\"{len(data_dedup)}건\")\n",
        "\n",
        "    # 5. 정렬된 데이터 출력\n",
        "    final_sorted = sort_by_date(data_dedup)\n",
        "    print(\"시간순 정렬 결과:\")\n",
        "    for item in final_sorted:\n",
        "        print(f\"- {item['date']} | {item['name']} | {item['score']}점\")\n",
        "\n",
        "    # 6. 가장 오래된 항목 출력\n",
        "    oldest = get_oldest_entry(final_sorted)\n",
        "    print(\"가장 오래된 항목:\")\n",
        "    if oldest:\n",
        "        print(f\"{oldest['name']} ({oldest['date']})\")\n",
        "    else:\n",
        "        print(\"데이터가 없습니다.\")\n",
        "\n",
        "    return final_sorted\n"
      ],
      "metadata": {
        "id": "VcSYI9-3oxlL"
      },
      "execution_count": 8,
      "outputs": []
    },
    {
      "cell_type": "code",
      "source": [
        "data = [\n",
        "    {\"name\": \"홍길동\", \"date\": \"2023-11-01\", \"score\": 338},  # 이상치\n",
        "    {\"name\": \"김철수\", \"date\": \"2023-10-21\", \"score\": 75},\n",
        "    {\"name\": \"홍길동\", \"date\": \"2023-11-15\", \"score\": None}, # score 누락\n",
        "    {\"name\": \"이영희\", \"date\": \"2023-08-09\", \"score\": 95},\n",
        "    {\"name\": \"\", \"date\": \"2023-10-01\", \"score\": 50},         # name 누락\n",
        "    {\"name\": \"이민호\", \"date\": \"\", \"score\": 70},              # date 누락\n",
        "    {\"name\": \"강다현\", \"date\": \"2023-10-10\"}                  # score 누락\n",
        "]\n",
        "\n",
        "preprocess_data(data)"
      ],
      "metadata": {
        "colab": {
          "base_uri": "https://localhost:8080/"
        },
        "id": "-FCUFW8ax-xj",
        "outputId": "2ff2d61d-c55a-461c-cdb2-68d66a3da03f"
      },
      "execution_count": 9,
      "outputs": [
        {
          "output_type": "stream",
          "name": "stdout",
          "text": [
            "==============================\n",
            "데이터 전처리 결과\n",
            "==============================\n",
            "원본 데이터:\n",
            "7건\n",
            "중복 제거 후:\n",
            "4건\n",
            "시간순 정렬 결과:\n",
            "- 2023-08-09 | 이영희 | 95점\n",
            "- 2023-10-10 | 강다현 | 85점\n",
            "- 2023-10-21 | 김철수 | 75점\n",
            "- 2023-11-15 | 홍길동 | 85점\n",
            "가장 오래된 항목:\n",
            "이영희 (2023-08-09)\n"
          ]
        },
        {
          "output_type": "execute_result",
          "data": {
            "text/plain": [
              "[{'name': '이영희', 'date': '2023-08-09', 'score': 95},\n",
              " {'name': '강다현', 'date': '2023-10-10', 'score': 85},\n",
              " {'name': '김철수', 'date': '2023-10-21', 'score': 75},\n",
              " {'name': '홍길동', 'date': '2023-11-15', 'score': 85}]"
            ]
          },
          "metadata": {},
          "execution_count": 9
        }
      ]
    },
    {
      "cell_type": "code",
      "source": [],
      "metadata": {
        "id": "swzxIHvhyA7X"
      },
      "execution_count": null,
      "outputs": []
    }
  ]
}