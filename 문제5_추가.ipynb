{
  "nbformat": 4,
  "nbformat_minor": 0,
  "metadata": {
    "colab": {
      "provenance": [],
      "authorship_tag": "ABX9TyOcCnNPudB6HmPaAZ89Uiu9",
      "include_colab_link": true
    },
    "kernelspec": {
      "name": "python3",
      "display_name": "Python 3"
    },
    "language_info": {
      "name": "python"
    }
  },
  "cells": [
    {
      "cell_type": "markdown",
      "metadata": {
        "id": "view-in-github",
        "colab_type": "text"
      },
      "source": [
        "<a href=\"https://colab.research.google.com/github/YisakJeong/-algorithm_team5/blob/main/%EB%AC%B8%EC%A0%9C5_%EC%B6%94%EA%B0%80.ipynb\" target=\"_parent\"><img src=\"https://colab.research.google.com/assets/colab-badge.svg\" alt=\"Open In Colab\"/></a>"
      ]
    },
    {
      "cell_type": "code",
      "execution_count": 1,
      "metadata": {
        "colab": {
          "base_uri": "https://localhost:8080/"
        },
        "id": "vt6pRprKnvbq",
        "outputId": "47e5ebd2-05d6-4137-eb36-1cc25aad0934"
      },
      "outputs": [
        {
          "output_type": "stream",
          "name": "stdout",
          "text": [
            "삽입 정렬 결과: [1832, 2678, 2731, 3727, 4059, 4557, 5038, 5251, 5533, 6545]\n",
            "병합 정렬 결과: [1832, 2678, 2731, 3727, 4059, 4557, 5038, 5251, 5533, 6545]\n",
            "Timsort 정렬 결과: [1832, 2678, 2731, 3727, 4059, 4557, 5038, 5251, 5533, 6545]\n"
          ]
        }
      ],
      "source": [
        "import random\n",
        "\n",
        "numbers = [random.randint(0, 10**6) for _ in range(10**3)]\n",
        "\n",
        "def insert_sort(arr, left, right):\n",
        "    for i in range(left +1, right + 1):\n",
        "        temp = arr[i]\n",
        "        j = i - 1\n",
        "        while j >= left and arr[j] > temp:\n",
        "            arr[j + 1] = arr[j]\n",
        "            j -= 1\n",
        "        arr[j + 1] = temp\n",
        "    return arr\n",
        "\n",
        "insert_sorted = insert_sort(numbers, 0, len(numbers) - 1)\n",
        "print(f\"삽입 정렬 결과: {insert_sorted[0:10]}\") # 리스트의 일부만 출력\n",
        "\n",
        "# 병합 정렬 (Merge Sort)\n",
        "def merge_sort(arr):\n",
        "    #기본 조건: 리스트 길이가 1 이하이면 그대로 반환(정렬할 필요 없음)\n",
        "    if len(arr) <= 1:\n",
        "        return arr\n",
        "\n",
        "    # 중간 인덱스를 배열을 반으로 나눔\n",
        "    mid = len(arr) // 2\n",
        "\n",
        "    # 왼쪽 절반을 재귀적으로 정렬\n",
        "    left = merge_sort(arr[:mid])\n",
        "\n",
        "    # 오른쪽 절반을 재귀적으로 정렬\n",
        "    right = merge_sort(arr[mid:])\n",
        "\n",
        "    #두 개의 정렬된 리스트를 병합하는 함수 호출후 반환\n",
        "    return merge(left, right)\n",
        "\n",
        "# 두 개의 정렬된 리스트를 병합하는 함수\n",
        "def merge(left, right):\n",
        "    result = [] # 병합된 결과를 저장할 리스트\n",
        "    i = j = 0 # 각 기스트의  연재 배고 위치를 나타내는 인덱스\n",
        "\n",
        "    # 두 리스트를 비교하며 작은 값부터 결과 리스트에 추가\n",
        "    while i < len(left) and j < len(right):\n",
        "        if left[i] < right[j]: #왼쪽 리스트의 값이 작으면 추가\n",
        "            result.append(left[i])\n",
        "            i += 1\n",
        "        else: #오른쪽 리스트의 값이 작으면 추가\n",
        "            result.append(right[j])\n",
        "            j += 1\n",
        "\n",
        "    # 남은 요소들을 결과 리스트에 추가(왼쪽 리스트에 남아 있는 경우)\n",
        "    result.extend(left[i:])\n",
        "\n",
        "    # 남은 요소들을 결과 리스트에 추가(오른쪽 리스트에 남아 있는 경우)\n",
        "    result.extend(right[j:])\n",
        "    return result #최종 정렬된 리스트 반환\n",
        "merge_sorted = merge_sort(numbers)\n",
        "print(\"병합 정렬 결과:\", merge_sorted[0:10]) # 리스트의 일부만 출력\n",
        "\n",
        "# Timsort 직접 구현\n",
        "Min_merge = 64\n",
        "\n",
        "def timSort(arr):\n",
        "    def calcMinRun(n):\n",
        "        r = 0\n",
        "        while n >= Min_merge:\n",
        "            r |= n & 1\n",
        "            n >>= 1\n",
        "        return n + r\n",
        "\n",
        "    n = len(arr)\n",
        "    minRun = calcMinRun(n)\n",
        "\n",
        "    # 각 부분 리스트를 삽입 정렬로 정렬\n",
        "    for start in range(0, n, minRun):\n",
        "        end = min(start + minRun - 1, n - 1)\n",
        "        insert_sort(arr, start, end)\n",
        "\n",
        "    currentSize = minRun\n",
        "    while currentSize < n:\n",
        "        for start in range(0, n, currentSize * 2):\n",
        "            mid = min(n - 1, start + currentSize - 1)\n",
        "            right = min(start + 2 * currentSize - 1, n - 1)\n",
        "            # 두 개의 정렬된 리스트를 병합\n",
        "            merged = merge(arr[start:mid + 1], arr[mid + 1:right + 1])\n",
        "            arr[start:start + len(merged)] = merged\n",
        "\n",
        "        currentSize *= 2\n",
        "\n",
        "    return arr\n",
        "\n",
        "timSort_sorted = timSort(numbers)\n",
        "print(\"Timsort 정렬 결과:\", timSort_sorted[0:10])"
      ]
    }
  ]
}